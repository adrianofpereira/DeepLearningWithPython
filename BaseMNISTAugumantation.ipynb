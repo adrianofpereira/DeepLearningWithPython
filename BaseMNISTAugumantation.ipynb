{
 "cells": [
  {
   "cell_type": "code",
   "execution_count": null,
   "metadata": {},
   "outputs": [],
   "source": [
    "import tensorflow as tf\n",
    "import keras"
   ]
  },
  {
   "cell_type": "code",
   "execution_count": null,
   "metadata": {},
   "outputs": [],
   "source": [
    "keras.__version__, tf.__version__"
   ]
  },
  {
   "cell_type": "code",
   "execution_count": null,
   "metadata": {},
   "outputs": [],
   "source": [
    "from tensorflow.keras.datasets import mnist\n",
    "from tensorflow.keras.models import Sequential\n",
    "from tensorflow.keras.layers import InputLayer, Dense, Flatten, Conv2D, MaxPooling2D\n",
    "from tensorflow.keras.preprocessing.image import ImageDataGenerator\n",
    "from tensorflow.keras import utils as np_utils\n"
   ]
  },
  {
   "cell_type": "code",
   "execution_count": null,
   "metadata": {},
   "outputs": [],
   "source": [
    "(X_treinameto, y_treinamento), (X_teste, y_teste) = mnist.load_data()"
   ]
  },
  {
   "cell_type": "code",
   "execution_count": null,
   "metadata": {},
   "outputs": [],
   "source": [
    "X_treinameto= X_treinameto.reshape(X_treinameto.shape[0], 28, 28, 1)\n",
    "X_teste = X_teste. reshape(X_teste.shapr[0], 28, 28, 1)\n",
    "X_treinameto= X_treinameto.astype('float32')\n",
    "X_teste = X_teste.astype('float32')\n",
    "X_treinameto /=255\n",
    "X_teste /=255\n",
    "y_treinamento = np_utils.to_categorical(y_treinamento,10)\n",
    "y_teste = np_utils.to_categorical(y_teste,10)"
   ]
  },
  {
   "cell_type": "code",
   "execution_count": null,
   "metadata": {},
   "outputs": [],
   "source": [
    "classificador = Sequential()\n",
    "classificador.add(InputLayer(shape=(28,28,1)))\n",
    "classificador.add(Conv2D(32, (3,3),activation='relu'))\n",
    "classificador.add(MaxPooling2D(pool_size=(2,2)))\n",
    "classificador.add(Flatten())\n",
    "classificador.add(Dense(units=128,activation='relu'))\n",
    "classificador.add(Dense(units=10,activation='softmax'))\n",
    "classificador.compile(loss='categorical_crossentropy', optimizer = 'adam',metrics =['accuracy'])\n",
    "classificador.fit(X[indice_treinameno], y[indice_treinameno], batch_size=128, epochs=5)\n",
    "precisao = classificador.evaluate(X[indice_teste], y[y_teste])\n",
    "resultados.append(precisao[1])"
   ]
  }
 ],
 "metadata": {
  "language_info": {
   "name": "python"
  }
 },
 "nbformat": 4,
 "nbformat_minor": 2
}
