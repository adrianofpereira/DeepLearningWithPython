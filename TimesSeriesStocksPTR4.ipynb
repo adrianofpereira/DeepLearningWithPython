{
 "cells": [
  {
   "cell_type": "code",
   "execution_count": 3,
   "metadata": {},
   "outputs": [],
   "source": [
    "import numpy as np\n",
    "import tensorflow as tf\n",
    "import pandas as pd"
   ]
  },
  {
   "cell_type": "code",
   "execution_count": 4,
   "metadata": {},
   "outputs": [
    {
     "data": {
      "text/plain": [
       "('1.26.4', '2.16.1')"
      ]
     },
     "execution_count": 4,
     "metadata": {},
     "output_type": "execute_result"
    }
   ],
   "source": [
    "np.__version__, tf.__version__"
   ]
  },
  {
   "cell_type": "code",
   "execution_count": 5,
   "metadata": {},
   "outputs": [],
   "source": [
    "from tensorflow.keras.models import Sequential\n",
    "from tensorflow.keras.layers import Dense, Dropout, LSTM\n",
    "from sklearn.preprocessing import MinMaxScaler\n",
    "import matplotlib.pyplot as plt"
   ]
  },
  {
   "cell_type": "code",
   "execution_count": 6,
   "metadata": {},
   "outputs": [
    {
     "data": {
      "text/html": [
       "<div>\n",
       "<style scoped>\n",
       "    .dataframe tbody tr th:only-of-type {\n",
       "        vertical-align: middle;\n",
       "    }\n",
       "\n",
       "    .dataframe tbody tr th {\n",
       "        vertical-align: top;\n",
       "    }\n",
       "\n",
       "    .dataframe thead th {\n",
       "        text-align: right;\n",
       "    }\n",
       "</style>\n",
       "<table border=\"1\" class=\"dataframe\">\n",
       "  <thead>\n",
       "    <tr style=\"text-align: right;\">\n",
       "      <th></th>\n",
       "      <th>Date</th>\n",
       "      <th>Open</th>\n",
       "      <th>High</th>\n",
       "      <th>Low</th>\n",
       "      <th>Close</th>\n",
       "      <th>Adj Close</th>\n",
       "      <th>Volume</th>\n",
       "    </tr>\n",
       "  </thead>\n",
       "  <tbody>\n",
       "    <tr>\n",
       "      <th>0</th>\n",
       "      <td>2013-01-02</td>\n",
       "      <td>19.990000</td>\n",
       "      <td>20.209999</td>\n",
       "      <td>19.690001</td>\n",
       "      <td>19.690001</td>\n",
       "      <td>18.086271</td>\n",
       "      <td>30182600.0</td>\n",
       "    </tr>\n",
       "    <tr>\n",
       "      <th>1</th>\n",
       "      <td>2013-01-03</td>\n",
       "      <td>19.809999</td>\n",
       "      <td>20.400000</td>\n",
       "      <td>19.700001</td>\n",
       "      <td>20.400000</td>\n",
       "      <td>18.738441</td>\n",
       "      <td>30552600.0</td>\n",
       "    </tr>\n",
       "    <tr>\n",
       "      <th>2</th>\n",
       "      <td>2013-01-04</td>\n",
       "      <td>20.330000</td>\n",
       "      <td>20.620001</td>\n",
       "      <td>20.170000</td>\n",
       "      <td>20.430000</td>\n",
       "      <td>18.766001</td>\n",
       "      <td>36141000.0</td>\n",
       "    </tr>\n",
       "    <tr>\n",
       "      <th>3</th>\n",
       "      <td>2013-01-07</td>\n",
       "      <td>20.480000</td>\n",
       "      <td>20.670000</td>\n",
       "      <td>19.950001</td>\n",
       "      <td>20.080000</td>\n",
       "      <td>18.444506</td>\n",
       "      <td>28069600.0</td>\n",
       "    </tr>\n",
       "    <tr>\n",
       "      <th>4</th>\n",
       "      <td>2013-01-08</td>\n",
       "      <td>20.110001</td>\n",
       "      <td>20.230000</td>\n",
       "      <td>19.459999</td>\n",
       "      <td>19.500000</td>\n",
       "      <td>17.911745</td>\n",
       "      <td>29091300.0</td>\n",
       "    </tr>\n",
       "    <tr>\n",
       "      <th>...</th>\n",
       "      <td>...</td>\n",
       "      <td>...</td>\n",
       "      <td>...</td>\n",
       "      <td>...</td>\n",
       "      <td>...</td>\n",
       "      <td>...</td>\n",
       "      <td>...</td>\n",
       "    </tr>\n",
       "    <tr>\n",
       "      <th>1240</th>\n",
       "      <td>2017-12-25</td>\n",
       "      <td>15.750000</td>\n",
       "      <td>15.750000</td>\n",
       "      <td>15.750000</td>\n",
       "      <td>15.750000</td>\n",
       "      <td>15.718563</td>\n",
       "      <td>0.0</td>\n",
       "    </tr>\n",
       "    <tr>\n",
       "      <th>1241</th>\n",
       "      <td>2017-12-26</td>\n",
       "      <td>15.750000</td>\n",
       "      <td>15.990000</td>\n",
       "      <td>15.690000</td>\n",
       "      <td>15.970000</td>\n",
       "      <td>15.938125</td>\n",
       "      <td>22173100.0</td>\n",
       "    </tr>\n",
       "    <tr>\n",
       "      <th>1242</th>\n",
       "      <td>2017-12-27</td>\n",
       "      <td>15.990000</td>\n",
       "      <td>16.139999</td>\n",
       "      <td>15.980000</td>\n",
       "      <td>16.049999</td>\n",
       "      <td>16.017963</td>\n",
       "      <td>23552200.0</td>\n",
       "    </tr>\n",
       "    <tr>\n",
       "      <th>1243</th>\n",
       "      <td>2017-12-28</td>\n",
       "      <td>16.100000</td>\n",
       "      <td>16.129999</td>\n",
       "      <td>16.000000</td>\n",
       "      <td>16.100000</td>\n",
       "      <td>16.067865</td>\n",
       "      <td>19011500.0</td>\n",
       "    </tr>\n",
       "    <tr>\n",
       "      <th>1244</th>\n",
       "      <td>2017-12-29</td>\n",
       "      <td>16.100000</td>\n",
       "      <td>16.100000</td>\n",
       "      <td>16.100000</td>\n",
       "      <td>16.100000</td>\n",
       "      <td>16.067865</td>\n",
       "      <td>0.0</td>\n",
       "    </tr>\n",
       "  </tbody>\n",
       "</table>\n",
       "<p>1245 rows × 7 columns</p>\n",
       "</div>"
      ],
      "text/plain": [
       "            Date       Open       High        Low      Close  Adj Close  \\\n",
       "0     2013-01-02  19.990000  20.209999  19.690001  19.690001  18.086271   \n",
       "1     2013-01-03  19.809999  20.400000  19.700001  20.400000  18.738441   \n",
       "2     2013-01-04  20.330000  20.620001  20.170000  20.430000  18.766001   \n",
       "3     2013-01-07  20.480000  20.670000  19.950001  20.080000  18.444506   \n",
       "4     2013-01-08  20.110001  20.230000  19.459999  19.500000  17.911745   \n",
       "...          ...        ...        ...        ...        ...        ...   \n",
       "1240  2017-12-25  15.750000  15.750000  15.750000  15.750000  15.718563   \n",
       "1241  2017-12-26  15.750000  15.990000  15.690000  15.970000  15.938125   \n",
       "1242  2017-12-27  15.990000  16.139999  15.980000  16.049999  16.017963   \n",
       "1243  2017-12-28  16.100000  16.129999  16.000000  16.100000  16.067865   \n",
       "1244  2017-12-29  16.100000  16.100000  16.100000  16.100000  16.067865   \n",
       "\n",
       "          Volume  \n",
       "0     30182600.0  \n",
       "1     30552600.0  \n",
       "2     36141000.0  \n",
       "3     28069600.0  \n",
       "4     29091300.0  \n",
       "...          ...  \n",
       "1240         0.0  \n",
       "1241  22173100.0  \n",
       "1242  23552200.0  \n",
       "1243  19011500.0  \n",
       "1244         0.0  \n",
       "\n",
       "[1245 rows x 7 columns]"
      ]
     },
     "execution_count": 6,
     "metadata": {},
     "output_type": "execute_result"
    }
   ],
   "source": [
    "base = pd.read_csv(\"C:/Users/nanojau/OneDrive/Documentos/CURSOS/DeepLearningWithPythonUdemy/petr4_treinamento.csv\")\n",
    "base"
   ]
  },
  {
   "cell_type": "code",
   "execution_count": 7,
   "metadata": {},
   "outputs": [
    {
     "data": {
      "text/plain": [
       "Date         0\n",
       "Open         3\n",
       "High         3\n",
       "Low          3\n",
       "Close        3\n",
       "Adj Close    3\n",
       "Volume       3\n",
       "dtype: int64"
      ]
     },
     "execution_count": 7,
     "metadata": {},
     "output_type": "execute_result"
    }
   ],
   "source": [
    "base.isnull().sum()"
   ]
  },
  {
   "cell_type": "code",
   "execution_count": 8,
   "metadata": {},
   "outputs": [],
   "source": [
    "base = base.dropna()"
   ]
  },
  {
   "cell_type": "code",
   "execution_count": 9,
   "metadata": {},
   "outputs": [
    {
     "data": {
      "text/plain": [
       "(1242, 7)"
      ]
     },
     "execution_count": 9,
     "metadata": {},
     "output_type": "execute_result"
    }
   ],
   "source": [
    "base.shape"
   ]
  },
  {
   "cell_type": "code",
   "execution_count": 10,
   "metadata": {},
   "outputs": [],
   "source": [
    "base_treinamento = base.iloc[:, 1:2].values"
   ]
  },
  {
   "cell_type": "code",
   "execution_count": 11,
   "metadata": {},
   "outputs": [
    {
     "data": {
      "text/plain": [
       "array([[19.99    ],\n",
       "       [19.809999],\n",
       "       [20.33    ],\n",
       "       ...,\n",
       "       [15.99    ],\n",
       "       [16.1     ],\n",
       "       [16.1     ]])"
      ]
     },
     "execution_count": 11,
     "metadata": {},
     "output_type": "execute_result"
    }
   ],
   "source": [
    "base_treinamento"
   ]
  },
  {
   "cell_type": "code",
   "execution_count": 12,
   "metadata": {},
   "outputs": [
    {
     "data": {
      "text/plain": [
       "array([[0.76501938],\n",
       "       [0.7562984 ],\n",
       "       [0.78149225],\n",
       "       ...,\n",
       "       [0.57122093],\n",
       "       [0.57655039],\n",
       "       [0.57655039]])"
      ]
     },
     "execution_count": 12,
     "metadata": {},
     "output_type": "execute_result"
    }
   ],
   "source": [
    "#Normalização dos dados\n",
    "normalizador = MinMaxScaler(feature_range=(0,1))\n",
    "base_treinamento_normalizada = normalizador.fit_transform(base_treinamento)\n",
    "base_treinamento_normalizada"
   ]
  },
  {
   "cell_type": "code",
   "execution_count": 13,
   "metadata": {},
   "outputs": [
    {
     "data": {
      "text/plain": [
       "(1242, 1)"
      ]
     },
     "execution_count": 13,
     "metadata": {},
     "output_type": "execute_result"
    }
   ],
   "source": [
    "base_treinamento_normalizada.shape"
   ]
  },
  {
   "cell_type": "code",
   "execution_count": 14,
   "metadata": {},
   "outputs": [
    {
     "name": "stdout",
     "output_type": "stream",
     "text": [
      "1241 1151\n"
     ]
    }
   ],
   "source": [
    "X = [] #previsores\n",
    "y = [] #preço real\n",
    "for i in range(90, 1242): # preço real será previsot em relação aos 90 preços anteriores\n",
    "    X.append(base_treinamento_normalizada[i - 90:i, 0])\n",
    "    y.append(base_treinamento_normalizada[i, 0])\n",
    "print(i, i-90)\n",
    "X, y  = np.array(X), np.array(y)"
   ]
  },
  {
   "cell_type": "code",
   "execution_count": 15,
   "metadata": {},
   "outputs": [
    {
     "data": {
      "text/plain": [
       "(1152, 90)"
      ]
     },
     "execution_count": 15,
     "metadata": {},
     "output_type": "execute_result"
    }
   ],
   "source": [
    "X.shape"
   ]
  },
  {
   "cell_type": "code",
   "execution_count": 16,
   "metadata": {},
   "outputs": [
    {
     "data": {
      "text/plain": [
       "(1152,)"
      ]
     },
     "execution_count": 16,
     "metadata": {},
     "output_type": "execute_result"
    }
   ],
   "source": [
    "y.shape"
   ]
  },
  {
   "cell_type": "code",
   "execution_count": 17,
   "metadata": {},
   "outputs": [
    {
     "data": {
      "text/plain": [
       "(array([0.76501938, 0.7562984 , 0.78149225, 0.78875969, 0.77083338,\n",
       "        0.74806197, 0.75436047, 0.75823643, 0.76598837, 0.76598837,\n",
       "        0.76017437, 0.75872098, 0.75581391, 0.74467054, 0.7374031 ,\n",
       "        0.7374031 , 0.73498067, 0.75242248, 0.73401163, 0.71656977,\n",
       "        0.68120155, 0.67538755, 0.67635659, 0.63372098, 0.66521318,\n",
       "        0.65649225, 0.64680228, 0.66618222, 0.65843028, 0.64970935,\n",
       "        0.65116274, 0.66424419, 0.67344961, 0.64292631, 0.64486434,\n",
       "        0.62257747, 0.60949617, 0.60998067, 0.60852713, 0.59593023,\n",
       "        0.61143411, 0.60222863, 0.64922481, 0.68362398, 0.70687989,\n",
       "        0.68265509, 0.70978682, 0.70784879, 0.71608527, 0.73643411,\n",
       "        0.7122093 , 0.7122093 , 0.7194767 , 0.70348832, 0.69525189,\n",
       "        0.70397287, 0.70397287, 0.69767442, 0.68168605, 0.68168605,\n",
       "        0.65310078, 0.66618222, 0.64825581, 0.66182175, 0.64341085,\n",
       "        0.67877902, 0.69137592, 0.66569772, 0.65406982, 0.64292631,\n",
       "        0.64147292, 0.63565891, 0.67587209, 0.68653106, 0.70300383,\n",
       "        0.71996119, 0.73982553, 0.76550388, 0.74854651, 0.75823643,\n",
       "        0.78924419, 0.76598837, 0.78488372, 0.80184109, 0.77761628,\n",
       "        0.77325581, 0.7562984 , 0.74273261, 0.74127907, 0.74224806]),\n",
       " 0.7611434108527131)"
      ]
     },
     "execution_count": 17,
     "metadata": {},
     "output_type": "execute_result"
    }
   ],
   "source": [
    "X[0] , y[0]"
   ]
  },
  {
   "cell_type": "code",
   "execution_count": 18,
   "metadata": {},
   "outputs": [
    {
     "name": "stderr",
     "output_type": "stream",
     "text": [
      "C:\\Users\\nanojau\\AppData\\Local\\Packages\\PythonSoftwareFoundation.Python.3.12_qbz5n2kfra8p0\\LocalCache\\local-packages\\Python312\\site-packages\\keras\\src\\layers\\rnn\\rnn.py:204: UserWarning: Do not pass an `input_shape`/`input_dim` argument to a layer. When using Sequential models, prefer using an `Input(shape)` object as the first layer in the model instead.\n",
      "  super().__init__(**kwargs)\n"
     ]
    },
    {
     "data": {
      "text/html": [
       "<pre style=\"white-space:pre;overflow-x:auto;line-height:normal;font-family:Menlo,'DejaVu Sans Mono',consolas,'Courier New',monospace\"><span style=\"font-weight: bold\">Model: \"sequential\"</span>\n",
       "</pre>\n"
      ],
      "text/plain": [
       "\u001b[1mModel: \"sequential\"\u001b[0m\n"
      ]
     },
     "metadata": {},
     "output_type": "display_data"
    },
    {
     "data": {
      "text/html": [
       "<pre style=\"white-space:pre;overflow-x:auto;line-height:normal;font-family:Menlo,'DejaVu Sans Mono',consolas,'Courier New',monospace\">┏━━━━━━━━━━━━━━━━━━━━━━━━━━━━━━━━━┳━━━━━━━━━━━━━━━━━━━━━━━━┳━━━━━━━━━━━━━━━┓\n",
       "┃<span style=\"font-weight: bold\"> Layer (type)                    </span>┃<span style=\"font-weight: bold\"> Output Shape           </span>┃<span style=\"font-weight: bold\">       Param # </span>┃\n",
       "┡━━━━━━━━━━━━━━━━━━━━━━━━━━━━━━━━━╇━━━━━━━━━━━━━━━━━━━━━━━━╇━━━━━━━━━━━━━━━┩\n",
       "│ lstm (<span style=\"color: #0087ff; text-decoration-color: #0087ff\">LSTM</span>)                     │ (<span style=\"color: #00d7ff; text-decoration-color: #00d7ff\">None</span>, <span style=\"color: #00af00; text-decoration-color: #00af00\">90</span>, <span style=\"color: #00af00; text-decoration-color: #00af00\">100</span>)        │        <span style=\"color: #00af00; text-decoration-color: #00af00\">40,800</span> │\n",
       "├─────────────────────────────────┼────────────────────────┼───────────────┤\n",
       "│ dropout (<span style=\"color: #0087ff; text-decoration-color: #0087ff\">Dropout</span>)               │ (<span style=\"color: #00d7ff; text-decoration-color: #00d7ff\">None</span>, <span style=\"color: #00af00; text-decoration-color: #00af00\">90</span>, <span style=\"color: #00af00; text-decoration-color: #00af00\">100</span>)        │             <span style=\"color: #00af00; text-decoration-color: #00af00\">0</span> │\n",
       "├─────────────────────────────────┼────────────────────────┼───────────────┤\n",
       "│ lstm_1 (<span style=\"color: #0087ff; text-decoration-color: #0087ff\">LSTM</span>)                   │ (<span style=\"color: #00d7ff; text-decoration-color: #00d7ff\">None</span>, <span style=\"color: #00af00; text-decoration-color: #00af00\">90</span>, <span style=\"color: #00af00; text-decoration-color: #00af00\">50</span>)         │        <span style=\"color: #00af00; text-decoration-color: #00af00\">30,200</span> │\n",
       "├─────────────────────────────────┼────────────────────────┼───────────────┤\n",
       "│ dropout_1 (<span style=\"color: #0087ff; text-decoration-color: #0087ff\">Dropout</span>)             │ (<span style=\"color: #00d7ff; text-decoration-color: #00d7ff\">None</span>, <span style=\"color: #00af00; text-decoration-color: #00af00\">90</span>, <span style=\"color: #00af00; text-decoration-color: #00af00\">50</span>)         │             <span style=\"color: #00af00; text-decoration-color: #00af00\">0</span> │\n",
       "├─────────────────────────────────┼────────────────────────┼───────────────┤\n",
       "│ lstm_2 (<span style=\"color: #0087ff; text-decoration-color: #0087ff\">LSTM</span>)                   │ (<span style=\"color: #00d7ff; text-decoration-color: #00d7ff\">None</span>, <span style=\"color: #00af00; text-decoration-color: #00af00\">90</span>, <span style=\"color: #00af00; text-decoration-color: #00af00\">50</span>)         │        <span style=\"color: #00af00; text-decoration-color: #00af00\">20,200</span> │\n",
       "├─────────────────────────────────┼────────────────────────┼───────────────┤\n",
       "│ dropout_2 (<span style=\"color: #0087ff; text-decoration-color: #0087ff\">Dropout</span>)             │ (<span style=\"color: #00d7ff; text-decoration-color: #00d7ff\">None</span>, <span style=\"color: #00af00; text-decoration-color: #00af00\">90</span>, <span style=\"color: #00af00; text-decoration-color: #00af00\">50</span>)         │             <span style=\"color: #00af00; text-decoration-color: #00af00\">0</span> │\n",
       "├─────────────────────────────────┼────────────────────────┼───────────────┤\n",
       "│ lstm_3 (<span style=\"color: #0087ff; text-decoration-color: #0087ff\">LSTM</span>)                   │ (<span style=\"color: #00d7ff; text-decoration-color: #00d7ff\">None</span>, <span style=\"color: #00af00; text-decoration-color: #00af00\">50</span>)             │        <span style=\"color: #00af00; text-decoration-color: #00af00\">20,200</span> │\n",
       "├─────────────────────────────────┼────────────────────────┼───────────────┤\n",
       "│ dropout_3 (<span style=\"color: #0087ff; text-decoration-color: #0087ff\">Dropout</span>)             │ (<span style=\"color: #00d7ff; text-decoration-color: #00d7ff\">None</span>, <span style=\"color: #00af00; text-decoration-color: #00af00\">50</span>)             │             <span style=\"color: #00af00; text-decoration-color: #00af00\">0</span> │\n",
       "├─────────────────────────────────┼────────────────────────┼───────────────┤\n",
       "│ dense (<span style=\"color: #0087ff; text-decoration-color: #0087ff\">Dense</span>)                   │ (<span style=\"color: #00d7ff; text-decoration-color: #00d7ff\">None</span>, <span style=\"color: #00af00; text-decoration-color: #00af00\">1</span>)              │            <span style=\"color: #00af00; text-decoration-color: #00af00\">51</span> │\n",
       "└─────────────────────────────────┴────────────────────────┴───────────────┘\n",
       "</pre>\n"
      ],
      "text/plain": [
       "┏━━━━━━━━━━━━━━━━━━━━━━━━━━━━━━━━━┳━━━━━━━━━━━━━━━━━━━━━━━━┳━━━━━━━━━━━━━━━┓\n",
       "┃\u001b[1m \u001b[0m\u001b[1mLayer (type)                   \u001b[0m\u001b[1m \u001b[0m┃\u001b[1m \u001b[0m\u001b[1mOutput Shape          \u001b[0m\u001b[1m \u001b[0m┃\u001b[1m \u001b[0m\u001b[1m      Param #\u001b[0m\u001b[1m \u001b[0m┃\n",
       "┡━━━━━━━━━━━━━━━━━━━━━━━━━━━━━━━━━╇━━━━━━━━━━━━━━━━━━━━━━━━╇━━━━━━━━━━━━━━━┩\n",
       "│ lstm (\u001b[38;5;33mLSTM\u001b[0m)                     │ (\u001b[38;5;45mNone\u001b[0m, \u001b[38;5;34m90\u001b[0m, \u001b[38;5;34m100\u001b[0m)        │        \u001b[38;5;34m40,800\u001b[0m │\n",
       "├─────────────────────────────────┼────────────────────────┼───────────────┤\n",
       "│ dropout (\u001b[38;5;33mDropout\u001b[0m)               │ (\u001b[38;5;45mNone\u001b[0m, \u001b[38;5;34m90\u001b[0m, \u001b[38;5;34m100\u001b[0m)        │             \u001b[38;5;34m0\u001b[0m │\n",
       "├─────────────────────────────────┼────────────────────────┼───────────────┤\n",
       "│ lstm_1 (\u001b[38;5;33mLSTM\u001b[0m)                   │ (\u001b[38;5;45mNone\u001b[0m, \u001b[38;5;34m90\u001b[0m, \u001b[38;5;34m50\u001b[0m)         │        \u001b[38;5;34m30,200\u001b[0m │\n",
       "├─────────────────────────────────┼────────────────────────┼───────────────┤\n",
       "│ dropout_1 (\u001b[38;5;33mDropout\u001b[0m)             │ (\u001b[38;5;45mNone\u001b[0m, \u001b[38;5;34m90\u001b[0m, \u001b[38;5;34m50\u001b[0m)         │             \u001b[38;5;34m0\u001b[0m │\n",
       "├─────────────────────────────────┼────────────────────────┼───────────────┤\n",
       "│ lstm_2 (\u001b[38;5;33mLSTM\u001b[0m)                   │ (\u001b[38;5;45mNone\u001b[0m, \u001b[38;5;34m90\u001b[0m, \u001b[38;5;34m50\u001b[0m)         │        \u001b[38;5;34m20,200\u001b[0m │\n",
       "├─────────────────────────────────┼────────────────────────┼───────────────┤\n",
       "│ dropout_2 (\u001b[38;5;33mDropout\u001b[0m)             │ (\u001b[38;5;45mNone\u001b[0m, \u001b[38;5;34m90\u001b[0m, \u001b[38;5;34m50\u001b[0m)         │             \u001b[38;5;34m0\u001b[0m │\n",
       "├─────────────────────────────────┼────────────────────────┼───────────────┤\n",
       "│ lstm_3 (\u001b[38;5;33mLSTM\u001b[0m)                   │ (\u001b[38;5;45mNone\u001b[0m, \u001b[38;5;34m50\u001b[0m)             │        \u001b[38;5;34m20,200\u001b[0m │\n",
       "├─────────────────────────────────┼────────────────────────┼───────────────┤\n",
       "│ dropout_3 (\u001b[38;5;33mDropout\u001b[0m)             │ (\u001b[38;5;45mNone\u001b[0m, \u001b[38;5;34m50\u001b[0m)             │             \u001b[38;5;34m0\u001b[0m │\n",
       "├─────────────────────────────────┼────────────────────────┼───────────────┤\n",
       "│ dense (\u001b[38;5;33mDense\u001b[0m)                   │ (\u001b[38;5;45mNone\u001b[0m, \u001b[38;5;34m1\u001b[0m)              │            \u001b[38;5;34m51\u001b[0m │\n",
       "└─────────────────────────────────┴────────────────────────┴───────────────┘\n"
      ]
     },
     "metadata": {},
     "output_type": "display_data"
    },
    {
     "data": {
      "text/html": [
       "<pre style=\"white-space:pre;overflow-x:auto;line-height:normal;font-family:Menlo,'DejaVu Sans Mono',consolas,'Courier New',monospace\"><span style=\"font-weight: bold\"> Total params: </span><span style=\"color: #00af00; text-decoration-color: #00af00\">111,451</span> (435.36 KB)\n",
       "</pre>\n"
      ],
      "text/plain": [
       "\u001b[1m Total params: \u001b[0m\u001b[38;5;34m111,451\u001b[0m (435.36 KB)\n"
      ]
     },
     "metadata": {},
     "output_type": "display_data"
    },
    {
     "data": {
      "text/html": [
       "<pre style=\"white-space:pre;overflow-x:auto;line-height:normal;font-family:Menlo,'DejaVu Sans Mono',consolas,'Courier New',monospace\"><span style=\"font-weight: bold\"> Trainable params: </span><span style=\"color: #00af00; text-decoration-color: #00af00\">111,451</span> (435.36 KB)\n",
       "</pre>\n"
      ],
      "text/plain": [
       "\u001b[1m Trainable params: \u001b[0m\u001b[38;5;34m111,451\u001b[0m (435.36 KB)\n"
      ]
     },
     "metadata": {},
     "output_type": "display_data"
    },
    {
     "data": {
      "text/html": [
       "<pre style=\"white-space:pre;overflow-x:auto;line-height:normal;font-family:Menlo,'DejaVu Sans Mono',consolas,'Courier New',monospace\"><span style=\"font-weight: bold\"> Non-trainable params: </span><span style=\"color: #00af00; text-decoration-color: #00af00\">0</span> (0.00 B)\n",
       "</pre>\n"
      ],
      "text/plain": [
       "\u001b[1m Non-trainable params: \u001b[0m\u001b[38;5;34m0\u001b[0m (0.00 B)\n"
      ]
     },
     "metadata": {},
     "output_type": "display_data"
    }
   ],
   "source": [
    "regressor = Sequential()\n",
    "\n",
    "regressor.add(LSTM(units = 100, return_sequences=True, input_shape = (X.shape[1], 1)))\n",
    "regressor.add(Dropout(0.3))\n",
    "\n",
    "regressor.add(LSTM(units = 50, return_sequences=True))\n",
    "regressor.add(Dropout(0.3))\n",
    "\n",
    "regressor.add(LSTM(units = 50, return_sequences=True))\n",
    "regressor.add(Dropout(0.3))\n",
    "\n",
    "regressor.add(LSTM(units = 50))\n",
    "regressor.add(Dropout(0.3))\n",
    "\n",
    "regressor.add(Dense(units = 1, activation = 'linear'))\n",
    "\n",
    "regressor.summary()"
   ]
  },
  {
   "cell_type": "code",
   "execution_count": 19,
   "metadata": {},
   "outputs": [],
   "source": [
    "regressor.compile(optimizer='rmsprop', loss = 'mean_squared_error',metrics = ['mean_absolute_error'])"
   ]
  },
  {
   "cell_type": "code",
   "execution_count": 20,
   "metadata": {},
   "outputs": [
    {
     "name": "stdout",
     "output_type": "stream",
     "text": [
      "Epoch 1/100\n",
      "\u001b[1m36/36\u001b[0m \u001b[32m━━━━━━━━━━━━━━━━━━━━\u001b[0m\u001b[37m\u001b[0m \u001b[1m9s\u001b[0m 116ms/step - loss: 0.0532 - mean_absolute_error: 0.1687\n",
      "Epoch 2/100\n",
      "\u001b[1m36/36\u001b[0m \u001b[32m━━━━━━━━━━━━━━━━━━━━\u001b[0m\u001b[37m\u001b[0m \u001b[1m4s\u001b[0m 114ms/step - loss: 0.0185 - mean_absolute_error: 0.1075\n",
      "Epoch 3/100\n",
      "\u001b[1m36/36\u001b[0m \u001b[32m━━━━━━━━━━━━━━━━━━━━\u001b[0m\u001b[37m\u001b[0m \u001b[1m4s\u001b[0m 109ms/step - loss: 0.0150 - mean_absolute_error: 0.0958\n",
      "Epoch 4/100\n",
      "\u001b[1m36/36\u001b[0m \u001b[32m━━━━━━━━━━━━━━━━━━━━\u001b[0m\u001b[37m\u001b[0m \u001b[1m4s\u001b[0m 122ms/step - loss: 0.0116 - mean_absolute_error: 0.0822\n",
      "Epoch 5/100\n",
      "\u001b[1m36/36\u001b[0m \u001b[32m━━━━━━━━━━━━━━━━━━━━\u001b[0m\u001b[37m\u001b[0m \u001b[1m4s\u001b[0m 116ms/step - loss: 0.0108 - mean_absolute_error: 0.0819\n",
      "Epoch 6/100\n",
      "\u001b[1m36/36\u001b[0m \u001b[32m━━━━━━━━━━━━━━━━━━━━\u001b[0m\u001b[37m\u001b[0m \u001b[1m5s\u001b[0m 125ms/step - loss: 0.0093 - mean_absolute_error: 0.0746\n",
      "Epoch 7/100\n",
      "\u001b[1m36/36\u001b[0m \u001b[32m━━━━━━━━━━━━━━━━━━━━\u001b[0m\u001b[37m\u001b[0m \u001b[1m4s\u001b[0m 111ms/step - loss: 0.0092 - mean_absolute_error: 0.0748\n",
      "Epoch 8/100\n",
      "\u001b[1m36/36\u001b[0m \u001b[32m━━━━━━━━━━━━━━━━━━━━\u001b[0m\u001b[37m\u001b[0m \u001b[1m4s\u001b[0m 114ms/step - loss: 0.0086 - mean_absolute_error: 0.0701\n",
      "Epoch 9/100\n",
      "\u001b[1m36/36\u001b[0m \u001b[32m━━━━━━━━━━━━━━━━━━━━\u001b[0m\u001b[37m\u001b[0m \u001b[1m4s\u001b[0m 117ms/step - loss: 0.0101 - mean_absolute_error: 0.0759\n",
      "Epoch 10/100\n",
      "\u001b[1m36/36\u001b[0m \u001b[32m━━━━━━━━━━━━━━━━━━━━\u001b[0m\u001b[37m\u001b[0m \u001b[1m4s\u001b[0m 115ms/step - loss: 0.0071 - mean_absolute_error: 0.0639\n",
      "Epoch 11/100\n",
      "\u001b[1m36/36\u001b[0m \u001b[32m━━━━━━━━━━━━━━━━━━━━\u001b[0m\u001b[37m\u001b[0m \u001b[1m4s\u001b[0m 114ms/step - loss: 0.0077 - mean_absolute_error: 0.0665\n",
      "Epoch 12/100\n",
      "\u001b[1m36/36\u001b[0m \u001b[32m━━━━━━━━━━━━━━━━━━━━\u001b[0m\u001b[37m\u001b[0m \u001b[1m4s\u001b[0m 121ms/step - loss: 0.0055 - mean_absolute_error: 0.0564\n",
      "Epoch 13/100\n",
      "\u001b[1m36/36\u001b[0m \u001b[32m━━━━━━━━━━━━━━━━━━━━\u001b[0m\u001b[37m\u001b[0m \u001b[1m4s\u001b[0m 123ms/step - loss: 0.0056 - mean_absolute_error: 0.0566\n",
      "Epoch 14/100\n",
      "\u001b[1m36/36\u001b[0m \u001b[32m━━━━━━━━━━━━━━━━━━━━\u001b[0m\u001b[37m\u001b[0m \u001b[1m5s\u001b[0m 126ms/step - loss: 0.0067 - mean_absolute_error: 0.0611\n",
      "Epoch 15/100\n",
      "\u001b[1m36/36\u001b[0m \u001b[32m━━━━━━━━━━━━━━━━━━━━\u001b[0m\u001b[37m\u001b[0m \u001b[1m4s\u001b[0m 120ms/step - loss: 0.0056 - mean_absolute_error: 0.0565\n",
      "Epoch 16/100\n",
      "\u001b[1m36/36\u001b[0m \u001b[32m━━━━━━━━━━━━━━━━━━━━\u001b[0m\u001b[37m\u001b[0m \u001b[1m4s\u001b[0m 122ms/step - loss: 0.0052 - mean_absolute_error: 0.0542\n",
      "Epoch 17/100\n",
      "\u001b[1m36/36\u001b[0m \u001b[32m━━━━━━━━━━━━━━━━━━━━\u001b[0m\u001b[37m\u001b[0m \u001b[1m4s\u001b[0m 116ms/step - loss: 0.0055 - mean_absolute_error: 0.0571\n",
      "Epoch 18/100\n",
      "\u001b[1m36/36\u001b[0m \u001b[32m━━━━━━━━━━━━━━━━━━━━\u001b[0m\u001b[37m\u001b[0m \u001b[1m4s\u001b[0m 116ms/step - loss: 0.0053 - mean_absolute_error: 0.0549\n",
      "Epoch 19/100\n",
      "\u001b[1m36/36\u001b[0m \u001b[32m━━━━━━━━━━━━━━━━━━━━\u001b[0m\u001b[37m\u001b[0m \u001b[1m4s\u001b[0m 118ms/step - loss: 0.0057 - mean_absolute_error: 0.0580\n",
      "Epoch 20/100\n",
      "\u001b[1m36/36\u001b[0m \u001b[32m━━━━━━━━━━━━━━━━━━━━\u001b[0m\u001b[37m\u001b[0m \u001b[1m4s\u001b[0m 118ms/step - loss: 0.0051 - mean_absolute_error: 0.0548\n",
      "Epoch 21/100\n",
      "\u001b[1m36/36\u001b[0m \u001b[32m━━━━━━━━━━━━━━━━━━━━\u001b[0m\u001b[37m\u001b[0m \u001b[1m4s\u001b[0m 116ms/step - loss: 0.0049 - mean_absolute_error: 0.0534\n",
      "Epoch 22/100\n",
      "\u001b[1m36/36\u001b[0m \u001b[32m━━━━━━━━━━━━━━━━━━━━\u001b[0m\u001b[37m\u001b[0m \u001b[1m4s\u001b[0m 112ms/step - loss: 0.0051 - mean_absolute_error: 0.0522\n",
      "Epoch 23/100\n",
      "\u001b[1m36/36\u001b[0m \u001b[32m━━━━━━━━━━━━━━━━━━━━\u001b[0m\u001b[37m\u001b[0m \u001b[1m4s\u001b[0m 113ms/step - loss: 0.0051 - mean_absolute_error: 0.0529\n",
      "Epoch 24/100\n",
      "\u001b[1m36/36\u001b[0m \u001b[32m━━━━━━━━━━━━━━━━━━━━\u001b[0m\u001b[37m\u001b[0m \u001b[1m4s\u001b[0m 112ms/step - loss: 0.0049 - mean_absolute_error: 0.0538\n",
      "Epoch 25/100\n",
      "\u001b[1m36/36\u001b[0m \u001b[32m━━━━━━━━━━━━━━━━━━━━\u001b[0m\u001b[37m\u001b[0m \u001b[1m4s\u001b[0m 117ms/step - loss: 0.0046 - mean_absolute_error: 0.0511\n",
      "Epoch 26/100\n",
      "\u001b[1m36/36\u001b[0m \u001b[32m━━━━━━━━━━━━━━━━━━━━\u001b[0m\u001b[37m\u001b[0m \u001b[1m4s\u001b[0m 112ms/step - loss: 0.0035 - mean_absolute_error: 0.0450\n",
      "Epoch 27/100\n",
      "\u001b[1m36/36\u001b[0m \u001b[32m━━━━━━━━━━━━━━━━━━━━\u001b[0m\u001b[37m\u001b[0m \u001b[1m4s\u001b[0m 116ms/step - loss: 0.0036 - mean_absolute_error: 0.0471\n",
      "Epoch 28/100\n",
      "\u001b[1m36/36\u001b[0m \u001b[32m━━━━━━━━━━━━━━━━━━━━\u001b[0m\u001b[37m\u001b[0m \u001b[1m5s\u001b[0m 131ms/step - loss: 0.0045 - mean_absolute_error: 0.0510\n",
      "Epoch 29/100\n",
      "\u001b[1m36/36\u001b[0m \u001b[32m━━━━━━━━━━━━━━━━━━━━\u001b[0m\u001b[37m\u001b[0m \u001b[1m4s\u001b[0m 121ms/step - loss: 0.0036 - mean_absolute_error: 0.0460\n",
      "Epoch 30/100\n",
      "\u001b[1m36/36\u001b[0m \u001b[32m━━━━━━━━━━━━━━━━━━━━\u001b[0m\u001b[37m\u001b[0m \u001b[1m4s\u001b[0m 123ms/step - loss: 0.0039 - mean_absolute_error: 0.0472\n",
      "Epoch 31/100\n",
      "\u001b[1m36/36\u001b[0m \u001b[32m━━━━━━━━━━━━━━━━━━━━\u001b[0m\u001b[37m\u001b[0m \u001b[1m4s\u001b[0m 121ms/step - loss: 0.0039 - mean_absolute_error: 0.0472\n",
      "Epoch 32/100\n",
      "\u001b[1m36/36\u001b[0m \u001b[32m━━━━━━━━━━━━━━━━━━━━\u001b[0m\u001b[37m\u001b[0m \u001b[1m4s\u001b[0m 116ms/step - loss: 0.0030 - mean_absolute_error: 0.0433\n",
      "Epoch 33/100\n",
      "\u001b[1m36/36\u001b[0m \u001b[32m━━━━━━━━━━━━━━━━━━━━\u001b[0m\u001b[37m\u001b[0m \u001b[1m4s\u001b[0m 114ms/step - loss: 0.0039 - mean_absolute_error: 0.0473\n",
      "Epoch 34/100\n",
      "\u001b[1m36/36\u001b[0m \u001b[32m━━━━━━━━━━━━━━━━━━━━\u001b[0m\u001b[37m\u001b[0m \u001b[1m5s\u001b[0m 125ms/step - loss: 0.0036 - mean_absolute_error: 0.0454\n",
      "Epoch 35/100\n",
      "\u001b[1m36/36\u001b[0m \u001b[32m━━━━━━━━━━━━━━━━━━━━\u001b[0m\u001b[37m\u001b[0m \u001b[1m5s\u001b[0m 125ms/step - loss: 0.0040 - mean_absolute_error: 0.0476\n",
      "Epoch 36/100\n",
      "\u001b[1m36/36\u001b[0m \u001b[32m━━━━━━━━━━━━━━━━━━━━\u001b[0m\u001b[37m\u001b[0m \u001b[1m4s\u001b[0m 123ms/step - loss: 0.0036 - mean_absolute_error: 0.0464\n",
      "Epoch 37/100\n",
      "\u001b[1m36/36\u001b[0m \u001b[32m━━━━━━━━━━━━━━━━━━━━\u001b[0m\u001b[37m\u001b[0m \u001b[1m4s\u001b[0m 119ms/step - loss: 0.0033 - mean_absolute_error: 0.0439\n",
      "Epoch 38/100\n",
      "\u001b[1m36/36\u001b[0m \u001b[32m━━━━━━━━━━━━━━━━━━━━\u001b[0m\u001b[37m\u001b[0m \u001b[1m4s\u001b[0m 118ms/step - loss: 0.0037 - mean_absolute_error: 0.0459\n",
      "Epoch 39/100\n",
      "\u001b[1m36/36\u001b[0m \u001b[32m━━━━━━━━━━━━━━━━━━━━\u001b[0m\u001b[37m\u001b[0m \u001b[1m4s\u001b[0m 117ms/step - loss: 0.0035 - mean_absolute_error: 0.0444\n",
      "Epoch 40/100\n",
      "\u001b[1m36/36\u001b[0m \u001b[32m━━━━━━━━━━━━━━━━━━━━\u001b[0m\u001b[37m\u001b[0m \u001b[1m5s\u001b[0m 128ms/step - loss: 0.0027 - mean_absolute_error: 0.0404\n",
      "Epoch 41/100\n",
      "\u001b[1m36/36\u001b[0m \u001b[32m━━━━━━━━━━━━━━━━━━━━\u001b[0m\u001b[37m\u001b[0m \u001b[1m5s\u001b[0m 130ms/step - loss: 0.0031 - mean_absolute_error: 0.0423\n",
      "Epoch 42/100\n",
      "\u001b[1m36/36\u001b[0m \u001b[32m━━━━━━━━━━━━━━━━━━━━\u001b[0m\u001b[37m\u001b[0m \u001b[1m5s\u001b[0m 128ms/step - loss: 0.0030 - mean_absolute_error: 0.0418\n",
      "Epoch 43/100\n",
      "\u001b[1m36/36\u001b[0m \u001b[32m━━━━━━━━━━━━━━━━━━━━\u001b[0m\u001b[37m\u001b[0m \u001b[1m5s\u001b[0m 125ms/step - loss: 0.0034 - mean_absolute_error: 0.0444\n",
      "Epoch 44/100\n",
      "\u001b[1m36/36\u001b[0m \u001b[32m━━━━━━━━━━━━━━━━━━━━\u001b[0m\u001b[37m\u001b[0m \u001b[1m5s\u001b[0m 126ms/step - loss: 0.0029 - mean_absolute_error: 0.0411\n",
      "Epoch 45/100\n",
      "\u001b[1m36/36\u001b[0m \u001b[32m━━━━━━━━━━━━━━━━━━━━\u001b[0m\u001b[37m\u001b[0m \u001b[1m5s\u001b[0m 134ms/step - loss: 0.0030 - mean_absolute_error: 0.0421\n",
      "Epoch 46/100\n",
      "\u001b[1m36/36\u001b[0m \u001b[32m━━━━━━━━━━━━━━━━━━━━\u001b[0m\u001b[37m\u001b[0m \u001b[1m4s\u001b[0m 121ms/step - loss: 0.0029 - mean_absolute_error: 0.0414\n",
      "Epoch 47/100\n",
      "\u001b[1m36/36\u001b[0m \u001b[32m━━━━━━━━━━━━━━━━━━━━\u001b[0m\u001b[37m\u001b[0m \u001b[1m4s\u001b[0m 121ms/step - loss: 0.0028 - mean_absolute_error: 0.0403\n",
      "Epoch 48/100\n",
      "\u001b[1m36/36\u001b[0m \u001b[32m━━━━━━━━━━━━━━━━━━━━\u001b[0m\u001b[37m\u001b[0m \u001b[1m4s\u001b[0m 116ms/step - loss: 0.0031 - mean_absolute_error: 0.0416\n",
      "Epoch 49/100\n",
      "\u001b[1m36/36\u001b[0m \u001b[32m━━━━━━━━━━━━━━━━━━━━\u001b[0m\u001b[37m\u001b[0m \u001b[1m4s\u001b[0m 118ms/step - loss: 0.0026 - mean_absolute_error: 0.0392\n",
      "Epoch 50/100\n",
      "\u001b[1m36/36\u001b[0m \u001b[32m━━━━━━━━━━━━━━━━━━━━\u001b[0m\u001b[37m\u001b[0m \u001b[1m4s\u001b[0m 119ms/step - loss: 0.0029 - mean_absolute_error: 0.0414\n",
      "Epoch 51/100\n",
      "\u001b[1m36/36\u001b[0m \u001b[32m━━━━━━━━━━━━━━━━━━━━\u001b[0m\u001b[37m\u001b[0m \u001b[1m4s\u001b[0m 120ms/step - loss: 0.0027 - mean_absolute_error: 0.0389\n",
      "Epoch 52/100\n",
      "\u001b[1m36/36\u001b[0m \u001b[32m━━━━━━━━━━━━━━━━━━━━\u001b[0m\u001b[37m\u001b[0m \u001b[1m4s\u001b[0m 113ms/step - loss: 0.0026 - mean_absolute_error: 0.0399\n",
      "Epoch 53/100\n",
      "\u001b[1m36/36\u001b[0m \u001b[32m━━━━━━━━━━━━━━━━━━━━\u001b[0m\u001b[37m\u001b[0m \u001b[1m4s\u001b[0m 117ms/step - loss: 0.0026 - mean_absolute_error: 0.0390\n",
      "Epoch 54/100\n",
      "\u001b[1m36/36\u001b[0m \u001b[32m━━━━━━━━━━━━━━━━━━━━\u001b[0m\u001b[37m\u001b[0m \u001b[1m4s\u001b[0m 115ms/step - loss: 0.0029 - mean_absolute_error: 0.0419\n",
      "Epoch 55/100\n",
      "\u001b[1m36/36\u001b[0m \u001b[32m━━━━━━━━━━━━━━━━━━━━\u001b[0m\u001b[37m\u001b[0m \u001b[1m5s\u001b[0m 132ms/step - loss: 0.0023 - mean_absolute_error: 0.0374\n",
      "Epoch 56/100\n",
      "\u001b[1m36/36\u001b[0m \u001b[32m━━━━━━━━━━━━━━━━━━━━\u001b[0m\u001b[37m\u001b[0m \u001b[1m4s\u001b[0m 116ms/step - loss: 0.0026 - mean_absolute_error: 0.0389\n",
      "Epoch 57/100\n",
      "\u001b[1m36/36\u001b[0m \u001b[32m━━━━━━━━━━━━━━━━━━━━\u001b[0m\u001b[37m\u001b[0m \u001b[1m4s\u001b[0m 119ms/step - loss: 0.0025 - mean_absolute_error: 0.0381\n",
      "Epoch 58/100\n",
      "\u001b[1m36/36\u001b[0m \u001b[32m━━━━━━━━━━━━━━━━━━━━\u001b[0m\u001b[37m\u001b[0m \u001b[1m4s\u001b[0m 115ms/step - loss: 0.0027 - mean_absolute_error: 0.0388\n",
      "Epoch 59/100\n",
      "\u001b[1m36/36\u001b[0m \u001b[32m━━━━━━━━━━━━━━━━━━━━\u001b[0m\u001b[37m\u001b[0m \u001b[1m4s\u001b[0m 119ms/step - loss: 0.0025 - mean_absolute_error: 0.0379\n",
      "Epoch 60/100\n",
      "\u001b[1m36/36\u001b[0m \u001b[32m━━━━━━━━━━━━━━━━━━━━\u001b[0m\u001b[37m\u001b[0m \u001b[1m4s\u001b[0m 120ms/step - loss: 0.0029 - mean_absolute_error: 0.0399\n",
      "Epoch 61/100\n",
      "\u001b[1m36/36\u001b[0m \u001b[32m━━━━━━━━━━━━━━━━━━━━\u001b[0m\u001b[37m\u001b[0m \u001b[1m4s\u001b[0m 121ms/step - loss: 0.0023 - mean_absolute_error: 0.0367\n",
      "Epoch 62/100\n",
      "\u001b[1m36/36\u001b[0m \u001b[32m━━━━━━━━━━━━━━━━━━━━\u001b[0m\u001b[37m\u001b[0m \u001b[1m4s\u001b[0m 119ms/step - loss: 0.0023 - mean_absolute_error: 0.0369\n",
      "Epoch 63/100\n",
      "\u001b[1m36/36\u001b[0m \u001b[32m━━━━━━━━━━━━━━━━━━━━\u001b[0m\u001b[37m\u001b[0m \u001b[1m4s\u001b[0m 119ms/step - loss: 0.0021 - mean_absolute_error: 0.0352\n",
      "Epoch 64/100\n",
      "\u001b[1m36/36\u001b[0m \u001b[32m━━━━━━━━━━━━━━━━━━━━\u001b[0m\u001b[37m\u001b[0m \u001b[1m4s\u001b[0m 122ms/step - loss: 0.0027 - mean_absolute_error: 0.0391\n",
      "Epoch 65/100\n",
      "\u001b[1m36/36\u001b[0m \u001b[32m━━━━━━━━━━━━━━━━━━━━\u001b[0m\u001b[37m\u001b[0m \u001b[1m5s\u001b[0m 130ms/step - loss: 0.0024 - mean_absolute_error: 0.0365\n",
      "Epoch 66/100\n",
      "\u001b[1m36/36\u001b[0m \u001b[32m━━━━━━━━━━━━━━━━━━━━\u001b[0m\u001b[37m\u001b[0m \u001b[1m5s\u001b[0m 128ms/step - loss: 0.0025 - mean_absolute_error: 0.0377\n",
      "Epoch 67/100\n",
      "\u001b[1m36/36\u001b[0m \u001b[32m━━━━━━━━━━━━━━━━━━━━\u001b[0m\u001b[37m\u001b[0m \u001b[1m4s\u001b[0m 122ms/step - loss: 0.0025 - mean_absolute_error: 0.0381\n",
      "Epoch 68/100\n",
      "\u001b[1m36/36\u001b[0m \u001b[32m━━━━━━━━━━━━━━━━━━━━\u001b[0m\u001b[37m\u001b[0m \u001b[1m4s\u001b[0m 119ms/step - loss: 0.0021 - mean_absolute_error: 0.0352\n",
      "Epoch 69/100\n",
      "\u001b[1m36/36\u001b[0m \u001b[32m━━━━━━━━━━━━━━━━━━━━\u001b[0m\u001b[37m\u001b[0m \u001b[1m5s\u001b[0m 132ms/step - loss: 0.0020 - mean_absolute_error: 0.0346\n",
      "Epoch 70/100\n",
      "\u001b[1m36/36\u001b[0m \u001b[32m━━━━━━━━━━━━━━━━━━━━\u001b[0m\u001b[37m\u001b[0m \u001b[1m4s\u001b[0m 123ms/step - loss: 0.0022 - mean_absolute_error: 0.0359\n",
      "Epoch 71/100\n",
      "\u001b[1m36/36\u001b[0m \u001b[32m━━━━━━━━━━━━━━━━━━━━\u001b[0m\u001b[37m\u001b[0m \u001b[1m4s\u001b[0m 118ms/step - loss: 0.0025 - mean_absolute_error: 0.0378\n",
      "Epoch 72/100\n",
      "\u001b[1m36/36\u001b[0m \u001b[32m━━━━━━━━━━━━━━━━━━━━\u001b[0m\u001b[37m\u001b[0m \u001b[1m4s\u001b[0m 122ms/step - loss: 0.0023 - mean_absolute_error: 0.0357\n",
      "Epoch 73/100\n",
      "\u001b[1m36/36\u001b[0m \u001b[32m━━━━━━━━━━━━━━━━━━━━\u001b[0m\u001b[37m\u001b[0m \u001b[1m4s\u001b[0m 121ms/step - loss: 0.0022 - mean_absolute_error: 0.0368\n",
      "Epoch 74/100\n",
      "\u001b[1m36/36\u001b[0m \u001b[32m━━━━━━━━━━━━━━━━━━━━\u001b[0m\u001b[37m\u001b[0m \u001b[1m4s\u001b[0m 115ms/step - loss: 0.0025 - mean_absolute_error: 0.0384\n",
      "Epoch 75/100\n",
      "\u001b[1m36/36\u001b[0m \u001b[32m━━━━━━━━━━━━━━━━━━━━\u001b[0m\u001b[37m\u001b[0m \u001b[1m4s\u001b[0m 113ms/step - loss: 0.0021 - mean_absolute_error: 0.0347\n",
      "Epoch 76/100\n",
      "\u001b[1m36/36\u001b[0m \u001b[32m━━━━━━━━━━━━━━━━━━━━\u001b[0m\u001b[37m\u001b[0m \u001b[1m4s\u001b[0m 121ms/step - loss: 0.0021 - mean_absolute_error: 0.0351\n",
      "Epoch 77/100\n",
      "\u001b[1m36/36\u001b[0m \u001b[32m━━━━━━━━━━━━━━━━━━━━\u001b[0m\u001b[37m\u001b[0m \u001b[1m4s\u001b[0m 123ms/step - loss: 0.0021 - mean_absolute_error: 0.0353\n",
      "Epoch 78/100\n",
      "\u001b[1m36/36\u001b[0m \u001b[32m━━━━━━━━━━━━━━━━━━━━\u001b[0m\u001b[37m\u001b[0m \u001b[1m4s\u001b[0m 118ms/step - loss: 0.0022 - mean_absolute_error: 0.0356\n",
      "Epoch 79/100\n",
      "\u001b[1m36/36\u001b[0m \u001b[32m━━━━━━━━━━━━━━━━━━━━\u001b[0m\u001b[37m\u001b[0m \u001b[1m4s\u001b[0m 112ms/step - loss: 0.0021 - mean_absolute_error: 0.0349\n",
      "Epoch 80/100\n",
      "\u001b[1m36/36\u001b[0m \u001b[32m━━━━━━━━━━━━━━━━━━━━\u001b[0m\u001b[37m\u001b[0m \u001b[1m4s\u001b[0m 120ms/step - loss: 0.0021 - mean_absolute_error: 0.0346\n",
      "Epoch 81/100\n",
      "\u001b[1m36/36\u001b[0m \u001b[32m━━━━━━━━━━━━━━━━━━━━\u001b[0m\u001b[37m\u001b[0m \u001b[1m5s\u001b[0m 124ms/step - loss: 0.0022 - mean_absolute_error: 0.0358\n",
      "Epoch 82/100\n",
      "\u001b[1m36/36\u001b[0m \u001b[32m━━━━━━━━━━━━━━━━━━━━\u001b[0m\u001b[37m\u001b[0m \u001b[1m4s\u001b[0m 118ms/step - loss: 0.0018 - mean_absolute_error: 0.0319\n",
      "Epoch 83/100\n",
      "\u001b[1m36/36\u001b[0m \u001b[32m━━━━━━━━━━━━━━━━━━━━\u001b[0m\u001b[37m\u001b[0m \u001b[1m5s\u001b[0m 131ms/step - loss: 0.0021 - mean_absolute_error: 0.0348\n",
      "Epoch 84/100\n",
      "\u001b[1m36/36\u001b[0m \u001b[32m━━━━━━━━━━━━━━━━━━━━\u001b[0m\u001b[37m\u001b[0m \u001b[1m5s\u001b[0m 128ms/step - loss: 0.0020 - mean_absolute_error: 0.0337\n",
      "Epoch 85/100\n",
      "\u001b[1m36/36\u001b[0m \u001b[32m━━━━━━━━━━━━━━━━━━━━\u001b[0m\u001b[37m\u001b[0m \u001b[1m5s\u001b[0m 127ms/step - loss: 0.0018 - mean_absolute_error: 0.0324\n",
      "Epoch 86/100\n",
      "\u001b[1m36/36\u001b[0m \u001b[32m━━━━━━━━━━━━━━━━━━━━\u001b[0m\u001b[37m\u001b[0m \u001b[1m4s\u001b[0m 124ms/step - loss: 0.0022 - mean_absolute_error: 0.0346\n",
      "Epoch 87/100\n",
      "\u001b[1m36/36\u001b[0m \u001b[32m━━━━━━━━━━━━━━━━━━━━\u001b[0m\u001b[37m\u001b[0m \u001b[1m5s\u001b[0m 127ms/step - loss: 0.0019 - mean_absolute_error: 0.0330\n",
      "Epoch 88/100\n",
      "\u001b[1m36/36\u001b[0m \u001b[32m━━━━━━━━━━━━━━━━━━━━\u001b[0m\u001b[37m\u001b[0m \u001b[1m5s\u001b[0m 125ms/step - loss: 0.0022 - mean_absolute_error: 0.0357\n",
      "Epoch 89/100\n",
      "\u001b[1m36/36\u001b[0m \u001b[32m━━━━━━━━━━━━━━━━━━━━\u001b[0m\u001b[37m\u001b[0m \u001b[1m4s\u001b[0m 116ms/step - loss: 0.0020 - mean_absolute_error: 0.0339\n",
      "Epoch 90/100\n",
      "\u001b[1m36/36\u001b[0m \u001b[32m━━━━━━━━━━━━━━━━━━━━\u001b[0m\u001b[37m\u001b[0m \u001b[1m5s\u001b[0m 126ms/step - loss: 0.0022 - mean_absolute_error: 0.0347\n",
      "Epoch 91/100\n",
      "\u001b[1m36/36\u001b[0m \u001b[32m━━━━━━━━━━━━━━━━━━━━\u001b[0m\u001b[37m\u001b[0m \u001b[1m4s\u001b[0m 121ms/step - loss: 0.0019 - mean_absolute_error: 0.0330\n",
      "Epoch 92/100\n",
      "\u001b[1m36/36\u001b[0m \u001b[32m━━━━━━━━━━━━━━━━━━━━\u001b[0m\u001b[37m\u001b[0m \u001b[1m5s\u001b[0m 130ms/step - loss: 0.0021 - mean_absolute_error: 0.0352\n",
      "Epoch 93/100\n",
      "\u001b[1m36/36\u001b[0m \u001b[32m━━━━━━━━━━━━━━━━━━━━\u001b[0m\u001b[37m\u001b[0m \u001b[1m5s\u001b[0m 127ms/step - loss: 0.0021 - mean_absolute_error: 0.0341\n",
      "Epoch 94/100\n",
      "\u001b[1m36/36\u001b[0m \u001b[32m━━━━━━━━━━━━━━━━━━━━\u001b[0m\u001b[37m\u001b[0m \u001b[1m5s\u001b[0m 141ms/step - loss: 0.0017 - mean_absolute_error: 0.0319\n",
      "Epoch 95/100\n",
      "\u001b[1m36/36\u001b[0m \u001b[32m━━━━━━━━━━━━━━━━━━━━\u001b[0m\u001b[37m\u001b[0m \u001b[1m5s\u001b[0m 128ms/step - loss: 0.0019 - mean_absolute_error: 0.0338\n",
      "Epoch 96/100\n",
      "\u001b[1m36/36\u001b[0m \u001b[32m━━━━━━━━━━━━━━━━━━━━\u001b[0m\u001b[37m\u001b[0m \u001b[1m5s\u001b[0m 132ms/step - loss: 0.0019 - mean_absolute_error: 0.0327\n",
      "Epoch 97/100\n",
      "\u001b[1m36/36\u001b[0m \u001b[32m━━━━━━━━━━━━━━━━━━━━\u001b[0m\u001b[37m\u001b[0m \u001b[1m5s\u001b[0m 126ms/step - loss: 0.0017 - mean_absolute_error: 0.0303\n",
      "Epoch 98/100\n",
      "\u001b[1m36/36\u001b[0m \u001b[32m━━━━━━━━━━━━━━━━━━━━\u001b[0m\u001b[37m\u001b[0m \u001b[1m4s\u001b[0m 122ms/step - loss: 0.0017 - mean_absolute_error: 0.0322\n",
      "Epoch 99/100\n",
      "\u001b[1m36/36\u001b[0m \u001b[32m━━━━━━━━━━━━━━━━━━━━\u001b[0m\u001b[37m\u001b[0m \u001b[1m5s\u001b[0m 125ms/step - loss: 0.0017 - mean_absolute_error: 0.0313\n",
      "Epoch 100/100\n",
      "\u001b[1m36/36\u001b[0m \u001b[32m━━━━━━━━━━━━━━━━━━━━\u001b[0m\u001b[37m\u001b[0m \u001b[1m4s\u001b[0m 117ms/step - loss: 0.0019 - mean_absolute_error: 0.0329\n"
     ]
    },
    {
     "data": {
      "text/plain": [
       "<keras.src.callbacks.history.History at 0x2d7b31da4e0>"
      ]
     },
     "execution_count": 20,
     "metadata": {},
     "output_type": "execute_result"
    }
   ],
   "source": [
    "regressor.fit(X, y , epochs= 100, batch_size= 32)"
   ]
  },
  {
   "cell_type": "code",
   "execution_count": 47,
   "metadata": {},
   "outputs": [
    {
     "data": {
      "text/html": [
       "<div>\n",
       "<style scoped>\n",
       "    .dataframe tbody tr th:only-of-type {\n",
       "        vertical-align: middle;\n",
       "    }\n",
       "\n",
       "    .dataframe tbody tr th {\n",
       "        vertical-align: top;\n",
       "    }\n",
       "\n",
       "    .dataframe thead th {\n",
       "        text-align: right;\n",
       "    }\n",
       "</style>\n",
       "<table border=\"1\" class=\"dataframe\">\n",
       "  <thead>\n",
       "    <tr style=\"text-align: right;\">\n",
       "      <th></th>\n",
       "      <th>Date</th>\n",
       "      <th>Open</th>\n",
       "      <th>High</th>\n",
       "      <th>Low</th>\n",
       "      <th>Close</th>\n",
       "      <th>Adj Close</th>\n",
       "      <th>Volume</th>\n",
       "    </tr>\n",
       "  </thead>\n",
       "  <tbody>\n",
       "    <tr>\n",
       "      <th>0</th>\n",
       "      <td>2018-01-02</td>\n",
       "      <td>16.190001</td>\n",
       "      <td>16.549999</td>\n",
       "      <td>16.190001</td>\n",
       "      <td>16.549999</td>\n",
       "      <td>16.516966</td>\n",
       "      <td>33461800</td>\n",
       "    </tr>\n",
       "    <tr>\n",
       "      <th>1</th>\n",
       "      <td>2018-01-03</td>\n",
       "      <td>16.490000</td>\n",
       "      <td>16.719999</td>\n",
       "      <td>16.370001</td>\n",
       "      <td>16.700001</td>\n",
       "      <td>16.666668</td>\n",
       "      <td>55940900</td>\n",
       "    </tr>\n",
       "    <tr>\n",
       "      <th>2</th>\n",
       "      <td>2018-01-04</td>\n",
       "      <td>16.780001</td>\n",
       "      <td>16.959999</td>\n",
       "      <td>16.620001</td>\n",
       "      <td>16.730000</td>\n",
       "      <td>16.696608</td>\n",
       "      <td>37064900</td>\n",
       "    </tr>\n",
       "    <tr>\n",
       "      <th>3</th>\n",
       "      <td>2018-01-05</td>\n",
       "      <td>16.700001</td>\n",
       "      <td>16.860001</td>\n",
       "      <td>16.570000</td>\n",
       "      <td>16.830000</td>\n",
       "      <td>16.796408</td>\n",
       "      <td>26958200</td>\n",
       "    </tr>\n",
       "    <tr>\n",
       "      <th>4</th>\n",
       "      <td>2018-01-08</td>\n",
       "      <td>16.740000</td>\n",
       "      <td>17.030001</td>\n",
       "      <td>16.709999</td>\n",
       "      <td>17.030001</td>\n",
       "      <td>16.996010</td>\n",
       "      <td>28400000</td>\n",
       "    </tr>\n",
       "    <tr>\n",
       "      <th>5</th>\n",
       "      <td>2018-01-09</td>\n",
       "      <td>17.030001</td>\n",
       "      <td>17.160000</td>\n",
       "      <td>16.959999</td>\n",
       "      <td>17.030001</td>\n",
       "      <td>16.996010</td>\n",
       "      <td>35070900</td>\n",
       "    </tr>\n",
       "    <tr>\n",
       "      <th>6</th>\n",
       "      <td>2018-01-10</td>\n",
       "      <td>16.920000</td>\n",
       "      <td>17.049999</td>\n",
       "      <td>16.770000</td>\n",
       "      <td>16.799999</td>\n",
       "      <td>16.766466</td>\n",
       "      <td>28547700</td>\n",
       "    </tr>\n",
       "    <tr>\n",
       "      <th>7</th>\n",
       "      <td>2018-01-11</td>\n",
       "      <td>16.879999</td>\n",
       "      <td>17.299999</td>\n",
       "      <td>16.840000</td>\n",
       "      <td>17.250000</td>\n",
       "      <td>17.215569</td>\n",
       "      <td>37921500</td>\n",
       "    </tr>\n",
       "    <tr>\n",
       "      <th>8</th>\n",
       "      <td>2018-01-12</td>\n",
       "      <td>17.040001</td>\n",
       "      <td>17.410000</td>\n",
       "      <td>17.020000</td>\n",
       "      <td>17.299999</td>\n",
       "      <td>17.265469</td>\n",
       "      <td>45912100</td>\n",
       "    </tr>\n",
       "    <tr>\n",
       "      <th>9</th>\n",
       "      <td>2018-01-15</td>\n",
       "      <td>17.320000</td>\n",
       "      <td>17.440001</td>\n",
       "      <td>17.150000</td>\n",
       "      <td>17.350000</td>\n",
       "      <td>17.315371</td>\n",
       "      <td>28945400</td>\n",
       "    </tr>\n",
       "    <tr>\n",
       "      <th>10</th>\n",
       "      <td>2018-01-16</td>\n",
       "      <td>17.350000</td>\n",
       "      <td>17.840000</td>\n",
       "      <td>17.299999</td>\n",
       "      <td>17.650000</td>\n",
       "      <td>17.614771</td>\n",
       "      <td>58618300</td>\n",
       "    </tr>\n",
       "    <tr>\n",
       "      <th>11</th>\n",
       "      <td>2018-01-17</td>\n",
       "      <td>17.920000</td>\n",
       "      <td>18.360001</td>\n",
       "      <td>17.809999</td>\n",
       "      <td>18.360001</td>\n",
       "      <td>18.323355</td>\n",
       "      <td>58488900</td>\n",
       "    </tr>\n",
       "    <tr>\n",
       "      <th>12</th>\n",
       "      <td>2018-01-18</td>\n",
       "      <td>18.350000</td>\n",
       "      <td>18.530001</td>\n",
       "      <td>17.930000</td>\n",
       "      <td>18.219999</td>\n",
       "      <td>18.183632</td>\n",
       "      <td>48575800</td>\n",
       "    </tr>\n",
       "    <tr>\n",
       "      <th>13</th>\n",
       "      <td>2018-01-19</td>\n",
       "      <td>18.309999</td>\n",
       "      <td>18.420000</td>\n",
       "      <td>18.030001</td>\n",
       "      <td>18.260000</td>\n",
       "      <td>18.223553</td>\n",
       "      <td>33470200</td>\n",
       "    </tr>\n",
       "    <tr>\n",
       "      <th>14</th>\n",
       "      <td>2018-01-22</td>\n",
       "      <td>18.260000</td>\n",
       "      <td>18.469999</td>\n",
       "      <td>18.090000</td>\n",
       "      <td>18.469999</td>\n",
       "      <td>18.433134</td>\n",
       "      <td>33920000</td>\n",
       "    </tr>\n",
       "    <tr>\n",
       "      <th>15</th>\n",
       "      <td>2018-01-23</td>\n",
       "      <td>18.400000</td>\n",
       "      <td>18.459999</td>\n",
       "      <td>18.000000</td>\n",
       "      <td>18.240000</td>\n",
       "      <td>18.203592</td>\n",
       "      <td>35567700</td>\n",
       "    </tr>\n",
       "    <tr>\n",
       "      <th>16</th>\n",
       "      <td>2018-01-24</td>\n",
       "      <td>18.420000</td>\n",
       "      <td>19.629999</td>\n",
       "      <td>18.420000</td>\n",
       "      <td>19.340000</td>\n",
       "      <td>19.301397</td>\n",
       "      <td>89768200</td>\n",
       "    </tr>\n",
       "    <tr>\n",
       "      <th>17</th>\n",
       "      <td>2018-01-25</td>\n",
       "      <td>19.340000</td>\n",
       "      <td>19.340000</td>\n",
       "      <td>19.340000</td>\n",
       "      <td>19.340000</td>\n",
       "      <td>19.301397</td>\n",
       "      <td>0</td>\n",
       "    </tr>\n",
       "    <tr>\n",
       "      <th>18</th>\n",
       "      <td>2018-01-26</td>\n",
       "      <td>19.620001</td>\n",
       "      <td>19.980000</td>\n",
       "      <td>19.100000</td>\n",
       "      <td>19.930000</td>\n",
       "      <td>19.890221</td>\n",
       "      <td>81989500</td>\n",
       "    </tr>\n",
       "    <tr>\n",
       "      <th>19</th>\n",
       "      <td>2018-01-29</td>\n",
       "      <td>19.670000</td>\n",
       "      <td>20.049999</td>\n",
       "      <td>19.570000</td>\n",
       "      <td>19.850000</td>\n",
       "      <td>19.810381</td>\n",
       "      <td>55726200</td>\n",
       "    </tr>\n",
       "    <tr>\n",
       "      <th>20</th>\n",
       "      <td>2018-01-30</td>\n",
       "      <td>19.770000</td>\n",
       "      <td>19.770000</td>\n",
       "      <td>19.360001</td>\n",
       "      <td>19.490000</td>\n",
       "      <td>19.451097</td>\n",
       "      <td>46203000</td>\n",
       "    </tr>\n",
       "    <tr>\n",
       "      <th>21</th>\n",
       "      <td>2018-01-31</td>\n",
       "      <td>19.740000</td>\n",
       "      <td>19.930000</td>\n",
       "      <td>19.680000</td>\n",
       "      <td>19.700001</td>\n",
       "      <td>19.660681</td>\n",
       "      <td>41576600</td>\n",
       "    </tr>\n",
       "  </tbody>\n",
       "</table>\n",
       "</div>"
      ],
      "text/plain": [
       "          Date       Open       High        Low      Close  Adj Close  \\\n",
       "0   2018-01-02  16.190001  16.549999  16.190001  16.549999  16.516966   \n",
       "1   2018-01-03  16.490000  16.719999  16.370001  16.700001  16.666668   \n",
       "2   2018-01-04  16.780001  16.959999  16.620001  16.730000  16.696608   \n",
       "3   2018-01-05  16.700001  16.860001  16.570000  16.830000  16.796408   \n",
       "4   2018-01-08  16.740000  17.030001  16.709999  17.030001  16.996010   \n",
       "5   2018-01-09  17.030001  17.160000  16.959999  17.030001  16.996010   \n",
       "6   2018-01-10  16.920000  17.049999  16.770000  16.799999  16.766466   \n",
       "7   2018-01-11  16.879999  17.299999  16.840000  17.250000  17.215569   \n",
       "8   2018-01-12  17.040001  17.410000  17.020000  17.299999  17.265469   \n",
       "9   2018-01-15  17.320000  17.440001  17.150000  17.350000  17.315371   \n",
       "10  2018-01-16  17.350000  17.840000  17.299999  17.650000  17.614771   \n",
       "11  2018-01-17  17.920000  18.360001  17.809999  18.360001  18.323355   \n",
       "12  2018-01-18  18.350000  18.530001  17.930000  18.219999  18.183632   \n",
       "13  2018-01-19  18.309999  18.420000  18.030001  18.260000  18.223553   \n",
       "14  2018-01-22  18.260000  18.469999  18.090000  18.469999  18.433134   \n",
       "15  2018-01-23  18.400000  18.459999  18.000000  18.240000  18.203592   \n",
       "16  2018-01-24  18.420000  19.629999  18.420000  19.340000  19.301397   \n",
       "17  2018-01-25  19.340000  19.340000  19.340000  19.340000  19.301397   \n",
       "18  2018-01-26  19.620001  19.980000  19.100000  19.930000  19.890221   \n",
       "19  2018-01-29  19.670000  20.049999  19.570000  19.850000  19.810381   \n",
       "20  2018-01-30  19.770000  19.770000  19.360001  19.490000  19.451097   \n",
       "21  2018-01-31  19.740000  19.930000  19.680000  19.700001  19.660681   \n",
       "\n",
       "      Volume  \n",
       "0   33461800  \n",
       "1   55940900  \n",
       "2   37064900  \n",
       "3   26958200  \n",
       "4   28400000  \n",
       "5   35070900  \n",
       "6   28547700  \n",
       "7   37921500  \n",
       "8   45912100  \n",
       "9   28945400  \n",
       "10  58618300  \n",
       "11  58488900  \n",
       "12  48575800  \n",
       "13  33470200  \n",
       "14  33920000  \n",
       "15  35567700  \n",
       "16  89768200  \n",
       "17         0  \n",
       "18  81989500  \n",
       "19  55726200  \n",
       "20  46203000  \n",
       "21  41576600  "
      ]
     },
     "execution_count": 47,
     "metadata": {},
     "output_type": "execute_result"
    }
   ],
   "source": [
    "base_teste = pd.read_csv(\"C:/Users/nanojau/OneDrive/Documentos/CURSOS/DeepLearningWithPythonUdemy/petr4_teste.csv\")\n",
    "base_teste"
   ]
  },
  {
   "cell_type": "code",
   "execution_count": 65,
   "metadata": {},
   "outputs": [
    {
     "data": {
      "text/plain": [
       "(22, 7)"
      ]
     },
     "execution_count": 65,
     "metadata": {},
     "output_type": "execute_result"
    }
   ],
   "source": [
    "base_teste.shape"
   ]
  },
  {
   "cell_type": "code",
   "execution_count": 48,
   "metadata": {},
   "outputs": [],
   "source": [
    "y_teste = base_teste.iloc[:, 1:2].values"
   ]
  },
  {
   "cell_type": "code",
   "execution_count": 49,
   "metadata": {},
   "outputs": [
    {
     "data": {
      "text/plain": [
       "array([[16.190001],\n",
       "       [16.49    ],\n",
       "       [16.780001],\n",
       "       [16.700001],\n",
       "       [16.74    ],\n",
       "       [17.030001],\n",
       "       [16.92    ],\n",
       "       [16.879999],\n",
       "       [17.040001],\n",
       "       [17.32    ],\n",
       "       [17.35    ],\n",
       "       [17.92    ],\n",
       "       [18.35    ],\n",
       "       [18.309999],\n",
       "       [18.26    ],\n",
       "       [18.4     ],\n",
       "       [18.42    ],\n",
       "       [19.34    ],\n",
       "       [19.620001],\n",
       "       [19.67    ],\n",
       "       [19.77    ],\n",
       "       [19.74    ]])"
      ]
     },
     "execution_count": 49,
     "metadata": {},
     "output_type": "execute_result"
    }
   ],
   "source": [
    "y_teste"
   ]
  },
  {
   "cell_type": "code",
   "execution_count": 50,
   "metadata": {},
   "outputs": [],
   "source": [
    "base_completa = pd.concat((base['Open'], base_teste['Open']), axis = 0)"
   ]
  },
  {
   "cell_type": "code",
   "execution_count": 51,
   "metadata": {},
   "outputs": [
    {
     "data": {
      "text/plain": [
       "(1264,)"
      ]
     },
     "execution_count": 51,
     "metadata": {},
     "output_type": "execute_result"
    }
   ],
   "source": [
    "base_completa.shape"
   ]
  },
  {
   "cell_type": "code",
   "execution_count": 52,
   "metadata": {},
   "outputs": [
    {
     "data": {
      "text/plain": [
       "1155    13.930000\n",
       "1156    13.760000\n",
       "1157    13.790000\n",
       "1158    13.530000\n",
       "1159    13.850000\n",
       "          ...    \n",
       "17      19.340000\n",
       "18      19.620001\n",
       "19      19.670000\n",
       "20      19.770000\n",
       "21      19.740000\n",
       "Name: Open, Length: 112, dtype: float64"
      ]
     },
     "execution_count": 52,
     "metadata": {},
     "output_type": "execute_result"
    }
   ],
   "source": [
    "base_completa[1152:]"
   ]
  },
  {
   "cell_type": "code",
   "execution_count": 53,
   "metadata": {},
   "outputs": [],
   "source": [
    "entradas = base_completa[len(base_completa) - len(base_teste) - 90:].values"
   ]
  },
  {
   "cell_type": "code",
   "execution_count": 54,
   "metadata": {},
   "outputs": [
    {
     "data": {
      "text/plain": [
       "(112,)"
      ]
     },
     "execution_count": 54,
     "metadata": {},
     "output_type": "execute_result"
    }
   ],
   "source": [
    "entradas.shape"
   ]
  },
  {
   "cell_type": "code",
   "execution_count": 55,
   "metadata": {},
   "outputs": [
    {
     "data": {
      "text/plain": [
       "(112, 1)"
      ]
     },
     "execution_count": 55,
     "metadata": {},
     "output_type": "execute_result"
    }
   ],
   "source": [
    "entradas = entradas.reshape(-1, 1)\n",
    "entradas.shape"
   ]
  },
  {
   "cell_type": "code",
   "execution_count": 56,
   "metadata": {},
   "outputs": [
    {
     "data": {
      "text/plain": [
       "array([[13.93    ],\n",
       "       [13.76    ],\n",
       "       [13.79    ],\n",
       "       [13.53    ],\n",
       "       [13.85    ],\n",
       "       [13.96    ],\n",
       "       [14.57    ],\n",
       "       [14.65    ],\n",
       "       [15.02    ],\n",
       "       [15.1     ],\n",
       "       [14.88    ],\n",
       "       [14.98    ],\n",
       "       [14.94    ],\n",
       "       [15.03    ],\n",
       "       [15.07    ],\n",
       "       [15.02    ],\n",
       "       [15.1     ],\n",
       "       [15.25    ],\n",
       "       [15.85    ],\n",
       "       [15.6     ],\n",
       "       [15.79    ],\n",
       "       [15.86    ],\n",
       "       [15.7     ],\n",
       "       [15.37    ],\n",
       "       [15.5     ],\n",
       "       [15.19    ],\n",
       "       [15.6     ],\n",
       "       [15.9     ],\n",
       "       [15.88    ],\n",
       "       [15.66    ],\n",
       "       [15.61    ],\n",
       "       [16.129999],\n",
       "       [16.17    ],\n",
       "       [16.08    ],\n",
       "       [16.23    ],\n",
       "       [16.16    ],\n",
       "       [16.139999],\n",
       "       [16.219999],\n",
       "       [16.      ],\n",
       "       [16.190001],\n",
       "       [16.290001],\n",
       "       [16.290001],\n",
       "       [16.530001],\n",
       "       [16.780001],\n",
       "       [16.77    ],\n",
       "       [16.969999],\n",
       "       [16.9     ],\n",
       "       [16.99    ],\n",
       "       [16.9     ],\n",
       "       [16.959999],\n",
       "       [17.049999],\n",
       "       [17.309999],\n",
       "       [16.690001],\n",
       "       [16.889999],\n",
       "       [16.709999],\n",
       "       [16.690001],\n",
       "       [16.639999],\n",
       "       [15.35    ],\n",
       "       [15.62    ],\n",
       "       [15.92    ],\n",
       "       [16.02    ],\n",
       "       [16.15    ],\n",
       "       [16.09    ],\n",
       "       [15.98    ],\n",
       "       [16.25    ],\n",
       "       [16.01    ],\n",
       "       [15.93    ],\n",
       "       [15.87    ],\n",
       "       [15.3     ],\n",
       "       [15.34    ],\n",
       "       [15.65    ],\n",
       "       [15.5     ],\n",
       "       [15.22    ],\n",
       "       [15.3     ],\n",
       "       [15.51    ],\n",
       "       [15.48    ],\n",
       "       [15.36    ],\n",
       "       [15.65    ],\n",
       "       [15.1     ],\n",
       "       [15.05    ],\n",
       "       [15.16    ],\n",
       "       [15.18    ],\n",
       "       [15.21    ],\n",
       "       [15.31    ],\n",
       "       [15.75    ],\n",
       "       [15.75    ],\n",
       "       [15.75    ],\n",
       "       [15.99    ],\n",
       "       [16.1     ],\n",
       "       [16.1     ],\n",
       "       [16.190001],\n",
       "       [16.49    ],\n",
       "       [16.780001],\n",
       "       [16.700001],\n",
       "       [16.74    ],\n",
       "       [17.030001],\n",
       "       [16.92    ],\n",
       "       [16.879999],\n",
       "       [17.040001],\n",
       "       [17.32    ],\n",
       "       [17.35    ],\n",
       "       [17.92    ],\n",
       "       [18.35    ],\n",
       "       [18.309999],\n",
       "       [18.26    ],\n",
       "       [18.4     ],\n",
       "       [18.42    ],\n",
       "       [19.34    ],\n",
       "       [19.620001],\n",
       "       [19.67    ],\n",
       "       [19.77    ],\n",
       "       [19.74    ]])"
      ]
     },
     "execution_count": 56,
     "metadata": {},
     "output_type": "execute_result"
    }
   ],
   "source": [
    "entradas"
   ]
  },
  {
   "cell_type": "code",
   "execution_count": 57,
   "metadata": {},
   "outputs": [],
   "source": [
    "entradas = normalizador.transform(entradas)"
   ]
  },
  {
   "cell_type": "code",
   "execution_count": 66,
   "metadata": {},
   "outputs": [],
   "source": [
    "X_teste = []\n",
    "for i in range(90, 112):\n",
    "    X_teste.append(entradas[i -90:i, 0])"
   ]
  },
  {
   "cell_type": "code",
   "execution_count": 67,
   "metadata": {},
   "outputs": [
    {
     "data": {
      "text/plain": [
       "[array([0.47141473, 0.46317829, 0.46463178, 0.45203488, 0.46753876,\n",
       "        0.47286822, 0.50242248, 0.50629845, 0.52422481, 0.52810078,\n",
       "        0.51744186, 0.52228682, 0.52034884, 0.5247093 , 0.52664729,\n",
       "        0.52422481, 0.52810078, 0.53536822, 0.56443798, 0.55232558,\n",
       "        0.56153101, 0.56492248, 0.55717054, 0.54118217, 0.54748062,\n",
       "        0.53246124, 0.55232558, 0.56686047, 0.56589147, 0.55523256,\n",
       "        0.55281008, 0.57800383, 0.57994186, 0.5755814 , 0.58284884,\n",
       "        0.57945736, 0.57848832, 0.58236429, 0.57170543, 0.5809109 ,\n",
       "        0.58575586, 0.58575586, 0.59738377, 0.60949617, 0.60901163,\n",
       "        0.6187015 , 0.61531008, 0.61967054, 0.61531008, 0.61821701,\n",
       "        0.62257747, 0.63517437, 0.60513571, 0.61482553, 0.6061046 ,\n",
       "        0.60513571, 0.60271313, 0.54021318, 0.55329457, 0.56782946,\n",
       "        0.57267442, 0.57897287, 0.57606589, 0.57073643, 0.58381783,\n",
       "        0.57218992, 0.56831395, 0.56540698, 0.5377907 , 0.53972868,\n",
       "        0.55474806, 0.54748062, 0.53391473, 0.5377907 , 0.54796512,\n",
       "        0.54651163, 0.54069767, 0.55474806, 0.52810078, 0.52567829,\n",
       "        0.53100775, 0.53197674, 0.53343023, 0.53827519, 0.55959302,\n",
       "        0.55959302, 0.55959302, 0.57122093, 0.57655039, 0.57655039]),\n",
       " array([0.46317829, 0.46463178, 0.45203488, 0.46753876, 0.47286822,\n",
       "        0.50242248, 0.50629845, 0.52422481, 0.52810078, 0.51744186,\n",
       "        0.52228682, 0.52034884, 0.5247093 , 0.52664729, 0.52422481,\n",
       "        0.52810078, 0.53536822, 0.56443798, 0.55232558, 0.56153101,\n",
       "        0.56492248, 0.55717054, 0.54118217, 0.54748062, 0.53246124,\n",
       "        0.55232558, 0.56686047, 0.56589147, 0.55523256, 0.55281008,\n",
       "        0.57800383, 0.57994186, 0.5755814 , 0.58284884, 0.57945736,\n",
       "        0.57848832, 0.58236429, 0.57170543, 0.5809109 , 0.58575586,\n",
       "        0.58575586, 0.59738377, 0.60949617, 0.60901163, 0.6187015 ,\n",
       "        0.61531008, 0.61967054, 0.61531008, 0.61821701, 0.62257747,\n",
       "        0.63517437, 0.60513571, 0.61482553, 0.6061046 , 0.60513571,\n",
       "        0.60271313, 0.54021318, 0.55329457, 0.56782946, 0.57267442,\n",
       "        0.57897287, 0.57606589, 0.57073643, 0.58381783, 0.57218992,\n",
       "        0.56831395, 0.56540698, 0.5377907 , 0.53972868, 0.55474806,\n",
       "        0.54748062, 0.53391473, 0.5377907 , 0.54796512, 0.54651163,\n",
       "        0.54069767, 0.55474806, 0.52810078, 0.52567829, 0.53100775,\n",
       "        0.53197674, 0.53343023, 0.53827519, 0.55959302, 0.55959302,\n",
       "        0.55959302, 0.57122093, 0.57655039, 0.57655039, 0.5809109 ]),\n",
       " array([0.46463178, 0.45203488, 0.46753876, 0.47286822, 0.50242248,\n",
       "        0.50629845, 0.52422481, 0.52810078, 0.51744186, 0.52228682,\n",
       "        0.52034884, 0.5247093 , 0.52664729, 0.52422481, 0.52810078,\n",
       "        0.53536822, 0.56443798, 0.55232558, 0.56153101, 0.56492248,\n",
       "        0.55717054, 0.54118217, 0.54748062, 0.53246124, 0.55232558,\n",
       "        0.56686047, 0.56589147, 0.55523256, 0.55281008, 0.57800383,\n",
       "        0.57994186, 0.5755814 , 0.58284884, 0.57945736, 0.57848832,\n",
       "        0.58236429, 0.57170543, 0.5809109 , 0.58575586, 0.58575586,\n",
       "        0.59738377, 0.60949617, 0.60901163, 0.6187015 , 0.61531008,\n",
       "        0.61967054, 0.61531008, 0.61821701, 0.62257747, 0.63517437,\n",
       "        0.60513571, 0.61482553, 0.6061046 , 0.60513571, 0.60271313,\n",
       "        0.54021318, 0.55329457, 0.56782946, 0.57267442, 0.57897287,\n",
       "        0.57606589, 0.57073643, 0.58381783, 0.57218992, 0.56831395,\n",
       "        0.56540698, 0.5377907 , 0.53972868, 0.55474806, 0.54748062,\n",
       "        0.53391473, 0.5377907 , 0.54796512, 0.54651163, 0.54069767,\n",
       "        0.55474806, 0.52810078, 0.52567829, 0.53100775, 0.53197674,\n",
       "        0.53343023, 0.53827519, 0.55959302, 0.55959302, 0.55959302,\n",
       "        0.57122093, 0.57655039, 0.57655039, 0.5809109 , 0.59544574]),\n",
       " array([0.45203488, 0.46753876, 0.47286822, 0.50242248, 0.50629845,\n",
       "        0.52422481, 0.52810078, 0.51744186, 0.52228682, 0.52034884,\n",
       "        0.5247093 , 0.52664729, 0.52422481, 0.52810078, 0.53536822,\n",
       "        0.56443798, 0.55232558, 0.56153101, 0.56492248, 0.55717054,\n",
       "        0.54118217, 0.54748062, 0.53246124, 0.55232558, 0.56686047,\n",
       "        0.56589147, 0.55523256, 0.55281008, 0.57800383, 0.57994186,\n",
       "        0.5755814 , 0.58284884, 0.57945736, 0.57848832, 0.58236429,\n",
       "        0.57170543, 0.5809109 , 0.58575586, 0.58575586, 0.59738377,\n",
       "        0.60949617, 0.60901163, 0.6187015 , 0.61531008, 0.61967054,\n",
       "        0.61531008, 0.61821701, 0.62257747, 0.63517437, 0.60513571,\n",
       "        0.61482553, 0.6061046 , 0.60513571, 0.60271313, 0.54021318,\n",
       "        0.55329457, 0.56782946, 0.57267442, 0.57897287, 0.57606589,\n",
       "        0.57073643, 0.58381783, 0.57218992, 0.56831395, 0.56540698,\n",
       "        0.5377907 , 0.53972868, 0.55474806, 0.54748062, 0.53391473,\n",
       "        0.5377907 , 0.54796512, 0.54651163, 0.54069767, 0.55474806,\n",
       "        0.52810078, 0.52567829, 0.53100775, 0.53197674, 0.53343023,\n",
       "        0.53827519, 0.55959302, 0.55959302, 0.55959302, 0.57122093,\n",
       "        0.57655039, 0.57655039, 0.5809109 , 0.59544574, 0.60949617]),\n",
       " array([0.46753876, 0.47286822, 0.50242248, 0.50629845, 0.52422481,\n",
       "        0.52810078, 0.51744186, 0.52228682, 0.52034884, 0.5247093 ,\n",
       "        0.52664729, 0.52422481, 0.52810078, 0.53536822, 0.56443798,\n",
       "        0.55232558, 0.56153101, 0.56492248, 0.55717054, 0.54118217,\n",
       "        0.54748062, 0.53246124, 0.55232558, 0.56686047, 0.56589147,\n",
       "        0.55523256, 0.55281008, 0.57800383, 0.57994186, 0.5755814 ,\n",
       "        0.58284884, 0.57945736, 0.57848832, 0.58236429, 0.57170543,\n",
       "        0.5809109 , 0.58575586, 0.58575586, 0.59738377, 0.60949617,\n",
       "        0.60901163, 0.6187015 , 0.61531008, 0.61967054, 0.61531008,\n",
       "        0.61821701, 0.62257747, 0.63517437, 0.60513571, 0.61482553,\n",
       "        0.6061046 , 0.60513571, 0.60271313, 0.54021318, 0.55329457,\n",
       "        0.56782946, 0.57267442, 0.57897287, 0.57606589, 0.57073643,\n",
       "        0.58381783, 0.57218992, 0.56831395, 0.56540698, 0.5377907 ,\n",
       "        0.53972868, 0.55474806, 0.54748062, 0.53391473, 0.5377907 ,\n",
       "        0.54796512, 0.54651163, 0.54069767, 0.55474806, 0.52810078,\n",
       "        0.52567829, 0.53100775, 0.53197674, 0.53343023, 0.53827519,\n",
       "        0.55959302, 0.55959302, 0.55959302, 0.57122093, 0.57655039,\n",
       "        0.57655039, 0.5809109 , 0.59544574, 0.60949617, 0.6056202 ]),\n",
       " array([0.47286822, 0.50242248, 0.50629845, 0.52422481, 0.52810078,\n",
       "        0.51744186, 0.52228682, 0.52034884, 0.5247093 , 0.52664729,\n",
       "        0.52422481, 0.52810078, 0.53536822, 0.56443798, 0.55232558,\n",
       "        0.56153101, 0.56492248, 0.55717054, 0.54118217, 0.54748062,\n",
       "        0.53246124, 0.55232558, 0.56686047, 0.56589147, 0.55523256,\n",
       "        0.55281008, 0.57800383, 0.57994186, 0.5755814 , 0.58284884,\n",
       "        0.57945736, 0.57848832, 0.58236429, 0.57170543, 0.5809109 ,\n",
       "        0.58575586, 0.58575586, 0.59738377, 0.60949617, 0.60901163,\n",
       "        0.6187015 , 0.61531008, 0.61967054, 0.61531008, 0.61821701,\n",
       "        0.62257747, 0.63517437, 0.60513571, 0.61482553, 0.6061046 ,\n",
       "        0.60513571, 0.60271313, 0.54021318, 0.55329457, 0.56782946,\n",
       "        0.57267442, 0.57897287, 0.57606589, 0.57073643, 0.58381783,\n",
       "        0.57218992, 0.56831395, 0.56540698, 0.5377907 , 0.53972868,\n",
       "        0.55474806, 0.54748062, 0.53391473, 0.5377907 , 0.54796512,\n",
       "        0.54651163, 0.54069767, 0.55474806, 0.52810078, 0.52567829,\n",
       "        0.53100775, 0.53197674, 0.53343023, 0.53827519, 0.55959302,\n",
       "        0.55959302, 0.55959302, 0.57122093, 0.57655039, 0.57655039,\n",
       "        0.5809109 , 0.59544574, 0.60949617, 0.6056202 , 0.60755814]),\n",
       " array([0.50242248, 0.50629845, 0.52422481, 0.52810078, 0.51744186,\n",
       "        0.52228682, 0.52034884, 0.5247093 , 0.52664729, 0.52422481,\n",
       "        0.52810078, 0.53536822, 0.56443798, 0.55232558, 0.56153101,\n",
       "        0.56492248, 0.55717054, 0.54118217, 0.54748062, 0.53246124,\n",
       "        0.55232558, 0.56686047, 0.56589147, 0.55523256, 0.55281008,\n",
       "        0.57800383, 0.57994186, 0.5755814 , 0.58284884, 0.57945736,\n",
       "        0.57848832, 0.58236429, 0.57170543, 0.5809109 , 0.58575586,\n",
       "        0.58575586, 0.59738377, 0.60949617, 0.60901163, 0.6187015 ,\n",
       "        0.61531008, 0.61967054, 0.61531008, 0.61821701, 0.62257747,\n",
       "        0.63517437, 0.60513571, 0.61482553, 0.6061046 , 0.60513571,\n",
       "        0.60271313, 0.54021318, 0.55329457, 0.56782946, 0.57267442,\n",
       "        0.57897287, 0.57606589, 0.57073643, 0.58381783, 0.57218992,\n",
       "        0.56831395, 0.56540698, 0.5377907 , 0.53972868, 0.55474806,\n",
       "        0.54748062, 0.53391473, 0.5377907 , 0.54796512, 0.54651163,\n",
       "        0.54069767, 0.55474806, 0.52810078, 0.52567829, 0.53100775,\n",
       "        0.53197674, 0.53343023, 0.53827519, 0.55959302, 0.55959302,\n",
       "        0.55959302, 0.57122093, 0.57655039, 0.57655039, 0.5809109 ,\n",
       "        0.59544574, 0.60949617, 0.6056202 , 0.60755814, 0.62160858]),\n",
       " array([0.50629845, 0.52422481, 0.52810078, 0.51744186, 0.52228682,\n",
       "        0.52034884, 0.5247093 , 0.52664729, 0.52422481, 0.52810078,\n",
       "        0.53536822, 0.56443798, 0.55232558, 0.56153101, 0.56492248,\n",
       "        0.55717054, 0.54118217, 0.54748062, 0.53246124, 0.55232558,\n",
       "        0.56686047, 0.56589147, 0.55523256, 0.55281008, 0.57800383,\n",
       "        0.57994186, 0.5755814 , 0.58284884, 0.57945736, 0.57848832,\n",
       "        0.58236429, 0.57170543, 0.5809109 , 0.58575586, 0.58575586,\n",
       "        0.59738377, 0.60949617, 0.60901163, 0.6187015 , 0.61531008,\n",
       "        0.61967054, 0.61531008, 0.61821701, 0.62257747, 0.63517437,\n",
       "        0.60513571, 0.61482553, 0.6061046 , 0.60513571, 0.60271313,\n",
       "        0.54021318, 0.55329457, 0.56782946, 0.57267442, 0.57897287,\n",
       "        0.57606589, 0.57073643, 0.58381783, 0.57218992, 0.56831395,\n",
       "        0.56540698, 0.5377907 , 0.53972868, 0.55474806, 0.54748062,\n",
       "        0.53391473, 0.5377907 , 0.54796512, 0.54651163, 0.54069767,\n",
       "        0.55474806, 0.52810078, 0.52567829, 0.53100775, 0.53197674,\n",
       "        0.53343023, 0.53827519, 0.55959302, 0.55959302, 0.55959302,\n",
       "        0.57122093, 0.57655039, 0.57655039, 0.5809109 , 0.59544574,\n",
       "        0.60949617, 0.6056202 , 0.60755814, 0.62160858, 0.61627907]),\n",
       " array([0.52422481, 0.52810078, 0.51744186, 0.52228682, 0.52034884,\n",
       "        0.5247093 , 0.52664729, 0.52422481, 0.52810078, 0.53536822,\n",
       "        0.56443798, 0.55232558, 0.56153101, 0.56492248, 0.55717054,\n",
       "        0.54118217, 0.54748062, 0.53246124, 0.55232558, 0.56686047,\n",
       "        0.56589147, 0.55523256, 0.55281008, 0.57800383, 0.57994186,\n",
       "        0.5755814 , 0.58284884, 0.57945736, 0.57848832, 0.58236429,\n",
       "        0.57170543, 0.5809109 , 0.58575586, 0.58575586, 0.59738377,\n",
       "        0.60949617, 0.60901163, 0.6187015 , 0.61531008, 0.61967054,\n",
       "        0.61531008, 0.61821701, 0.62257747, 0.63517437, 0.60513571,\n",
       "        0.61482553, 0.6061046 , 0.60513571, 0.60271313, 0.54021318,\n",
       "        0.55329457, 0.56782946, 0.57267442, 0.57897287, 0.57606589,\n",
       "        0.57073643, 0.58381783, 0.57218992, 0.56831395, 0.56540698,\n",
       "        0.5377907 , 0.53972868, 0.55474806, 0.54748062, 0.53391473,\n",
       "        0.5377907 , 0.54796512, 0.54651163, 0.54069767, 0.55474806,\n",
       "        0.52810078, 0.52567829, 0.53100775, 0.53197674, 0.53343023,\n",
       "        0.53827519, 0.55959302, 0.55959302, 0.55959302, 0.57122093,\n",
       "        0.57655039, 0.57655039, 0.5809109 , 0.59544574, 0.60949617,\n",
       "        0.6056202 , 0.60755814, 0.62160858, 0.61627907, 0.61434104]),\n",
       " array([0.52810078, 0.51744186, 0.52228682, 0.52034884, 0.5247093 ,\n",
       "        0.52664729, 0.52422481, 0.52810078, 0.53536822, 0.56443798,\n",
       "        0.55232558, 0.56153101, 0.56492248, 0.55717054, 0.54118217,\n",
       "        0.54748062, 0.53246124, 0.55232558, 0.56686047, 0.56589147,\n",
       "        0.55523256, 0.55281008, 0.57800383, 0.57994186, 0.5755814 ,\n",
       "        0.58284884, 0.57945736, 0.57848832, 0.58236429, 0.57170543,\n",
       "        0.5809109 , 0.58575586, 0.58575586, 0.59738377, 0.60949617,\n",
       "        0.60901163, 0.6187015 , 0.61531008, 0.61967054, 0.61531008,\n",
       "        0.61821701, 0.62257747, 0.63517437, 0.60513571, 0.61482553,\n",
       "        0.6061046 , 0.60513571, 0.60271313, 0.54021318, 0.55329457,\n",
       "        0.56782946, 0.57267442, 0.57897287, 0.57606589, 0.57073643,\n",
       "        0.58381783, 0.57218992, 0.56831395, 0.56540698, 0.5377907 ,\n",
       "        0.53972868, 0.55474806, 0.54748062, 0.53391473, 0.5377907 ,\n",
       "        0.54796512, 0.54651163, 0.54069767, 0.55474806, 0.52810078,\n",
       "        0.52567829, 0.53100775, 0.53197674, 0.53343023, 0.53827519,\n",
       "        0.55959302, 0.55959302, 0.55959302, 0.57122093, 0.57655039,\n",
       "        0.57655039, 0.5809109 , 0.59544574, 0.60949617, 0.6056202 ,\n",
       "        0.60755814, 0.62160858, 0.61627907, 0.61434104, 0.62209307]),\n",
       " array([0.51744186, 0.52228682, 0.52034884, 0.5247093 , 0.52664729,\n",
       "        0.52422481, 0.52810078, 0.53536822, 0.56443798, 0.55232558,\n",
       "        0.56153101, 0.56492248, 0.55717054, 0.54118217, 0.54748062,\n",
       "        0.53246124, 0.55232558, 0.56686047, 0.56589147, 0.55523256,\n",
       "        0.55281008, 0.57800383, 0.57994186, 0.5755814 , 0.58284884,\n",
       "        0.57945736, 0.57848832, 0.58236429, 0.57170543, 0.5809109 ,\n",
       "        0.58575586, 0.58575586, 0.59738377, 0.60949617, 0.60901163,\n",
       "        0.6187015 , 0.61531008, 0.61967054, 0.61531008, 0.61821701,\n",
       "        0.62257747, 0.63517437, 0.60513571, 0.61482553, 0.6061046 ,\n",
       "        0.60513571, 0.60271313, 0.54021318, 0.55329457, 0.56782946,\n",
       "        0.57267442, 0.57897287, 0.57606589, 0.57073643, 0.58381783,\n",
       "        0.57218992, 0.56831395, 0.56540698, 0.5377907 , 0.53972868,\n",
       "        0.55474806, 0.54748062, 0.53391473, 0.5377907 , 0.54796512,\n",
       "        0.54651163, 0.54069767, 0.55474806, 0.52810078, 0.52567829,\n",
       "        0.53100775, 0.53197674, 0.53343023, 0.53827519, 0.55959302,\n",
       "        0.55959302, 0.55959302, 0.57122093, 0.57655039, 0.57655039,\n",
       "        0.5809109 , 0.59544574, 0.60949617, 0.6056202 , 0.60755814,\n",
       "        0.62160858, 0.61627907, 0.61434104, 0.62209307, 0.63565891]),\n",
       " array([0.52228682, 0.52034884, 0.5247093 , 0.52664729, 0.52422481,\n",
       "        0.52810078, 0.53536822, 0.56443798, 0.55232558, 0.56153101,\n",
       "        0.56492248, 0.55717054, 0.54118217, 0.54748062, 0.53246124,\n",
       "        0.55232558, 0.56686047, 0.56589147, 0.55523256, 0.55281008,\n",
       "        0.57800383, 0.57994186, 0.5755814 , 0.58284884, 0.57945736,\n",
       "        0.57848832, 0.58236429, 0.57170543, 0.5809109 , 0.58575586,\n",
       "        0.58575586, 0.59738377, 0.60949617, 0.60901163, 0.6187015 ,\n",
       "        0.61531008, 0.61967054, 0.61531008, 0.61821701, 0.62257747,\n",
       "        0.63517437, 0.60513571, 0.61482553, 0.6061046 , 0.60513571,\n",
       "        0.60271313, 0.54021318, 0.55329457, 0.56782946, 0.57267442,\n",
       "        0.57897287, 0.57606589, 0.57073643, 0.58381783, 0.57218992,\n",
       "        0.56831395, 0.56540698, 0.5377907 , 0.53972868, 0.55474806,\n",
       "        0.54748062, 0.53391473, 0.5377907 , 0.54796512, 0.54651163,\n",
       "        0.54069767, 0.55474806, 0.52810078, 0.52567829, 0.53100775,\n",
       "        0.53197674, 0.53343023, 0.53827519, 0.55959302, 0.55959302,\n",
       "        0.55959302, 0.57122093, 0.57655039, 0.57655039, 0.5809109 ,\n",
       "        0.59544574, 0.60949617, 0.6056202 , 0.60755814, 0.62160858,\n",
       "        0.61627907, 0.61434104, 0.62209307, 0.63565891, 0.6371124 ]),\n",
       " array([0.52034884, 0.5247093 , 0.52664729, 0.52422481, 0.52810078,\n",
       "        0.53536822, 0.56443798, 0.55232558, 0.56153101, 0.56492248,\n",
       "        0.55717054, 0.54118217, 0.54748062, 0.53246124, 0.55232558,\n",
       "        0.56686047, 0.56589147, 0.55523256, 0.55281008, 0.57800383,\n",
       "        0.57994186, 0.5755814 , 0.58284884, 0.57945736, 0.57848832,\n",
       "        0.58236429, 0.57170543, 0.5809109 , 0.58575586, 0.58575586,\n",
       "        0.59738377, 0.60949617, 0.60901163, 0.6187015 , 0.61531008,\n",
       "        0.61967054, 0.61531008, 0.61821701, 0.62257747, 0.63517437,\n",
       "        0.60513571, 0.61482553, 0.6061046 , 0.60513571, 0.60271313,\n",
       "        0.54021318, 0.55329457, 0.56782946, 0.57267442, 0.57897287,\n",
       "        0.57606589, 0.57073643, 0.58381783, 0.57218992, 0.56831395,\n",
       "        0.56540698, 0.5377907 , 0.53972868, 0.55474806, 0.54748062,\n",
       "        0.53391473, 0.5377907 , 0.54796512, 0.54651163, 0.54069767,\n",
       "        0.55474806, 0.52810078, 0.52567829, 0.53100775, 0.53197674,\n",
       "        0.53343023, 0.53827519, 0.55959302, 0.55959302, 0.55959302,\n",
       "        0.57122093, 0.57655039, 0.57655039, 0.5809109 , 0.59544574,\n",
       "        0.60949617, 0.6056202 , 0.60755814, 0.62160858, 0.61627907,\n",
       "        0.61434104, 0.62209307, 0.63565891, 0.6371124 , 0.66472868]),\n",
       " array([0.5247093 , 0.52664729, 0.52422481, 0.52810078, 0.53536822,\n",
       "        0.56443798, 0.55232558, 0.56153101, 0.56492248, 0.55717054,\n",
       "        0.54118217, 0.54748062, 0.53246124, 0.55232558, 0.56686047,\n",
       "        0.56589147, 0.55523256, 0.55281008, 0.57800383, 0.57994186,\n",
       "        0.5755814 , 0.58284884, 0.57945736, 0.57848832, 0.58236429,\n",
       "        0.57170543, 0.5809109 , 0.58575586, 0.58575586, 0.59738377,\n",
       "        0.60949617, 0.60901163, 0.6187015 , 0.61531008, 0.61967054,\n",
       "        0.61531008, 0.61821701, 0.62257747, 0.63517437, 0.60513571,\n",
       "        0.61482553, 0.6061046 , 0.60513571, 0.60271313, 0.54021318,\n",
       "        0.55329457, 0.56782946, 0.57267442, 0.57897287, 0.57606589,\n",
       "        0.57073643, 0.58381783, 0.57218992, 0.56831395, 0.56540698,\n",
       "        0.5377907 , 0.53972868, 0.55474806, 0.54748062, 0.53391473,\n",
       "        0.5377907 , 0.54796512, 0.54651163, 0.54069767, 0.55474806,\n",
       "        0.52810078, 0.52567829, 0.53100775, 0.53197674, 0.53343023,\n",
       "        0.53827519, 0.55959302, 0.55959302, 0.55959302, 0.57122093,\n",
       "        0.57655039, 0.57655039, 0.5809109 , 0.59544574, 0.60949617,\n",
       "        0.6056202 , 0.60755814, 0.62160858, 0.61627907, 0.61434104,\n",
       "        0.62209307, 0.63565891, 0.6371124 , 0.66472868, 0.68556202]),\n",
       " array([0.52664729, 0.52422481, 0.52810078, 0.53536822, 0.56443798,\n",
       "        0.55232558, 0.56153101, 0.56492248, 0.55717054, 0.54118217,\n",
       "        0.54748062, 0.53246124, 0.55232558, 0.56686047, 0.56589147,\n",
       "        0.55523256, 0.55281008, 0.57800383, 0.57994186, 0.5755814 ,\n",
       "        0.58284884, 0.57945736, 0.57848832, 0.58236429, 0.57170543,\n",
       "        0.5809109 , 0.58575586, 0.58575586, 0.59738377, 0.60949617,\n",
       "        0.60901163, 0.6187015 , 0.61531008, 0.61967054, 0.61531008,\n",
       "        0.61821701, 0.62257747, 0.63517437, 0.60513571, 0.61482553,\n",
       "        0.6061046 , 0.60513571, 0.60271313, 0.54021318, 0.55329457,\n",
       "        0.56782946, 0.57267442, 0.57897287, 0.57606589, 0.57073643,\n",
       "        0.58381783, 0.57218992, 0.56831395, 0.56540698, 0.5377907 ,\n",
       "        0.53972868, 0.55474806, 0.54748062, 0.53391473, 0.5377907 ,\n",
       "        0.54796512, 0.54651163, 0.54069767, 0.55474806, 0.52810078,\n",
       "        0.52567829, 0.53100775, 0.53197674, 0.53343023, 0.53827519,\n",
       "        0.55959302, 0.55959302, 0.55959302, 0.57122093, 0.57655039,\n",
       "        0.57655039, 0.5809109 , 0.59544574, 0.60949617, 0.6056202 ,\n",
       "        0.60755814, 0.62160858, 0.61627907, 0.61434104, 0.62209307,\n",
       "        0.63565891, 0.6371124 , 0.66472868, 0.68556202, 0.68362398]),\n",
       " array([0.52422481, 0.52810078, 0.53536822, 0.56443798, 0.55232558,\n",
       "        0.56153101, 0.56492248, 0.55717054, 0.54118217, 0.54748062,\n",
       "        0.53246124, 0.55232558, 0.56686047, 0.56589147, 0.55523256,\n",
       "        0.55281008, 0.57800383, 0.57994186, 0.5755814 , 0.58284884,\n",
       "        0.57945736, 0.57848832, 0.58236429, 0.57170543, 0.5809109 ,\n",
       "        0.58575586, 0.58575586, 0.59738377, 0.60949617, 0.60901163,\n",
       "        0.6187015 , 0.61531008, 0.61967054, 0.61531008, 0.61821701,\n",
       "        0.62257747, 0.63517437, 0.60513571, 0.61482553, 0.6061046 ,\n",
       "        0.60513571, 0.60271313, 0.54021318, 0.55329457, 0.56782946,\n",
       "        0.57267442, 0.57897287, 0.57606589, 0.57073643, 0.58381783,\n",
       "        0.57218992, 0.56831395, 0.56540698, 0.5377907 , 0.53972868,\n",
       "        0.55474806, 0.54748062, 0.53391473, 0.5377907 , 0.54796512,\n",
       "        0.54651163, 0.54069767, 0.55474806, 0.52810078, 0.52567829,\n",
       "        0.53100775, 0.53197674, 0.53343023, 0.53827519, 0.55959302,\n",
       "        0.55959302, 0.55959302, 0.57122093, 0.57655039, 0.57655039,\n",
       "        0.5809109 , 0.59544574, 0.60949617, 0.6056202 , 0.60755814,\n",
       "        0.62160858, 0.61627907, 0.61434104, 0.62209307, 0.63565891,\n",
       "        0.6371124 , 0.66472868, 0.68556202, 0.68362398, 0.68120155]),\n",
       " array([0.52810078, 0.53536822, 0.56443798, 0.55232558, 0.56153101,\n",
       "        0.56492248, 0.55717054, 0.54118217, 0.54748062, 0.53246124,\n",
       "        0.55232558, 0.56686047, 0.56589147, 0.55523256, 0.55281008,\n",
       "        0.57800383, 0.57994186, 0.5755814 , 0.58284884, 0.57945736,\n",
       "        0.57848832, 0.58236429, 0.57170543, 0.5809109 , 0.58575586,\n",
       "        0.58575586, 0.59738377, 0.60949617, 0.60901163, 0.6187015 ,\n",
       "        0.61531008, 0.61967054, 0.61531008, 0.61821701, 0.62257747,\n",
       "        0.63517437, 0.60513571, 0.61482553, 0.6061046 , 0.60513571,\n",
       "        0.60271313, 0.54021318, 0.55329457, 0.56782946, 0.57267442,\n",
       "        0.57897287, 0.57606589, 0.57073643, 0.58381783, 0.57218992,\n",
       "        0.56831395, 0.56540698, 0.5377907 , 0.53972868, 0.55474806,\n",
       "        0.54748062, 0.53391473, 0.5377907 , 0.54796512, 0.54651163,\n",
       "        0.54069767, 0.55474806, 0.52810078, 0.52567829, 0.53100775,\n",
       "        0.53197674, 0.53343023, 0.53827519, 0.55959302, 0.55959302,\n",
       "        0.55959302, 0.57122093, 0.57655039, 0.57655039, 0.5809109 ,\n",
       "        0.59544574, 0.60949617, 0.6056202 , 0.60755814, 0.62160858,\n",
       "        0.61627907, 0.61434104, 0.62209307, 0.63565891, 0.6371124 ,\n",
       "        0.66472868, 0.68556202, 0.68362398, 0.68120155, 0.6879845 ]),\n",
       " array([0.53536822, 0.56443798, 0.55232558, 0.56153101, 0.56492248,\n",
       "        0.55717054, 0.54118217, 0.54748062, 0.53246124, 0.55232558,\n",
       "        0.56686047, 0.56589147, 0.55523256, 0.55281008, 0.57800383,\n",
       "        0.57994186, 0.5755814 , 0.58284884, 0.57945736, 0.57848832,\n",
       "        0.58236429, 0.57170543, 0.5809109 , 0.58575586, 0.58575586,\n",
       "        0.59738377, 0.60949617, 0.60901163, 0.6187015 , 0.61531008,\n",
       "        0.61967054, 0.61531008, 0.61821701, 0.62257747, 0.63517437,\n",
       "        0.60513571, 0.61482553, 0.6061046 , 0.60513571, 0.60271313,\n",
       "        0.54021318, 0.55329457, 0.56782946, 0.57267442, 0.57897287,\n",
       "        0.57606589, 0.57073643, 0.58381783, 0.57218992, 0.56831395,\n",
       "        0.56540698, 0.5377907 , 0.53972868, 0.55474806, 0.54748062,\n",
       "        0.53391473, 0.5377907 , 0.54796512, 0.54651163, 0.54069767,\n",
       "        0.55474806, 0.52810078, 0.52567829, 0.53100775, 0.53197674,\n",
       "        0.53343023, 0.53827519, 0.55959302, 0.55959302, 0.55959302,\n",
       "        0.57122093, 0.57655039, 0.57655039, 0.5809109 , 0.59544574,\n",
       "        0.60949617, 0.6056202 , 0.60755814, 0.62160858, 0.61627907,\n",
       "        0.61434104, 0.62209307, 0.63565891, 0.6371124 , 0.66472868,\n",
       "        0.68556202, 0.68362398, 0.68120155, 0.6879845 , 0.68895349]),\n",
       " array([0.56443798, 0.55232558, 0.56153101, 0.56492248, 0.55717054,\n",
       "        0.54118217, 0.54748062, 0.53246124, 0.55232558, 0.56686047,\n",
       "        0.56589147, 0.55523256, 0.55281008, 0.57800383, 0.57994186,\n",
       "        0.5755814 , 0.58284884, 0.57945736, 0.57848832, 0.58236429,\n",
       "        0.57170543, 0.5809109 , 0.58575586, 0.58575586, 0.59738377,\n",
       "        0.60949617, 0.60901163, 0.6187015 , 0.61531008, 0.61967054,\n",
       "        0.61531008, 0.61821701, 0.62257747, 0.63517437, 0.60513571,\n",
       "        0.61482553, 0.6061046 , 0.60513571, 0.60271313, 0.54021318,\n",
       "        0.55329457, 0.56782946, 0.57267442, 0.57897287, 0.57606589,\n",
       "        0.57073643, 0.58381783, 0.57218992, 0.56831395, 0.56540698,\n",
       "        0.5377907 , 0.53972868, 0.55474806, 0.54748062, 0.53391473,\n",
       "        0.5377907 , 0.54796512, 0.54651163, 0.54069767, 0.55474806,\n",
       "        0.52810078, 0.52567829, 0.53100775, 0.53197674, 0.53343023,\n",
       "        0.53827519, 0.55959302, 0.55959302, 0.55959302, 0.57122093,\n",
       "        0.57655039, 0.57655039, 0.5809109 , 0.59544574, 0.60949617,\n",
       "        0.6056202 , 0.60755814, 0.62160858, 0.61627907, 0.61434104,\n",
       "        0.62209307, 0.63565891, 0.6371124 , 0.66472868, 0.68556202,\n",
       "        0.68362398, 0.68120155, 0.6879845 , 0.68895349, 0.73352713]),\n",
       " array([0.55232558, 0.56153101, 0.56492248, 0.55717054, 0.54118217,\n",
       "        0.54748062, 0.53246124, 0.55232558, 0.56686047, 0.56589147,\n",
       "        0.55523256, 0.55281008, 0.57800383, 0.57994186, 0.5755814 ,\n",
       "        0.58284884, 0.57945736, 0.57848832, 0.58236429, 0.57170543,\n",
       "        0.5809109 , 0.58575586, 0.58575586, 0.59738377, 0.60949617,\n",
       "        0.60901163, 0.6187015 , 0.61531008, 0.61967054, 0.61531008,\n",
       "        0.61821701, 0.62257747, 0.63517437, 0.60513571, 0.61482553,\n",
       "        0.6061046 , 0.60513571, 0.60271313, 0.54021318, 0.55329457,\n",
       "        0.56782946, 0.57267442, 0.57897287, 0.57606589, 0.57073643,\n",
       "        0.58381783, 0.57218992, 0.56831395, 0.56540698, 0.5377907 ,\n",
       "        0.53972868, 0.55474806, 0.54748062, 0.53391473, 0.5377907 ,\n",
       "        0.54796512, 0.54651163, 0.54069767, 0.55474806, 0.52810078,\n",
       "        0.52567829, 0.53100775, 0.53197674, 0.53343023, 0.53827519,\n",
       "        0.55959302, 0.55959302, 0.55959302, 0.57122093, 0.57655039,\n",
       "        0.57655039, 0.5809109 , 0.59544574, 0.60949617, 0.6056202 ,\n",
       "        0.60755814, 0.62160858, 0.61627907, 0.61434104, 0.62209307,\n",
       "        0.63565891, 0.6371124 , 0.66472868, 0.68556202, 0.68362398,\n",
       "        0.68120155, 0.6879845 , 0.68895349, 0.73352713, 0.74709307]),\n",
       " array([0.56153101, 0.56492248, 0.55717054, 0.54118217, 0.54748062,\n",
       "        0.53246124, 0.55232558, 0.56686047, 0.56589147, 0.55523256,\n",
       "        0.55281008, 0.57800383, 0.57994186, 0.5755814 , 0.58284884,\n",
       "        0.57945736, 0.57848832, 0.58236429, 0.57170543, 0.5809109 ,\n",
       "        0.58575586, 0.58575586, 0.59738377, 0.60949617, 0.60901163,\n",
       "        0.6187015 , 0.61531008, 0.61967054, 0.61531008, 0.61821701,\n",
       "        0.62257747, 0.63517437, 0.60513571, 0.61482553, 0.6061046 ,\n",
       "        0.60513571, 0.60271313, 0.54021318, 0.55329457, 0.56782946,\n",
       "        0.57267442, 0.57897287, 0.57606589, 0.57073643, 0.58381783,\n",
       "        0.57218992, 0.56831395, 0.56540698, 0.5377907 , 0.53972868,\n",
       "        0.55474806, 0.54748062, 0.53391473, 0.5377907 , 0.54796512,\n",
       "        0.54651163, 0.54069767, 0.55474806, 0.52810078, 0.52567829,\n",
       "        0.53100775, 0.53197674, 0.53343023, 0.53827519, 0.55959302,\n",
       "        0.55959302, 0.55959302, 0.57122093, 0.57655039, 0.57655039,\n",
       "        0.5809109 , 0.59544574, 0.60949617, 0.6056202 , 0.60755814,\n",
       "        0.62160858, 0.61627907, 0.61434104, 0.62209307, 0.63565891,\n",
       "        0.6371124 , 0.66472868, 0.68556202, 0.68362398, 0.68120155,\n",
       "        0.6879845 , 0.68895349, 0.73352713, 0.74709307, 0.7495155 ]),\n",
       " array([0.56492248, 0.55717054, 0.54118217, 0.54748062, 0.53246124,\n",
       "        0.55232558, 0.56686047, 0.56589147, 0.55523256, 0.55281008,\n",
       "        0.57800383, 0.57994186, 0.5755814 , 0.58284884, 0.57945736,\n",
       "        0.57848832, 0.58236429, 0.57170543, 0.5809109 , 0.58575586,\n",
       "        0.58575586, 0.59738377, 0.60949617, 0.60901163, 0.6187015 ,\n",
       "        0.61531008, 0.61967054, 0.61531008, 0.61821701, 0.62257747,\n",
       "        0.63517437, 0.60513571, 0.61482553, 0.6061046 , 0.60513571,\n",
       "        0.60271313, 0.54021318, 0.55329457, 0.56782946, 0.57267442,\n",
       "        0.57897287, 0.57606589, 0.57073643, 0.58381783, 0.57218992,\n",
       "        0.56831395, 0.56540698, 0.5377907 , 0.53972868, 0.55474806,\n",
       "        0.54748062, 0.53391473, 0.5377907 , 0.54796512, 0.54651163,\n",
       "        0.54069767, 0.55474806, 0.52810078, 0.52567829, 0.53100775,\n",
       "        0.53197674, 0.53343023, 0.53827519, 0.55959302, 0.55959302,\n",
       "        0.55959302, 0.57122093, 0.57655039, 0.57655039, 0.5809109 ,\n",
       "        0.59544574, 0.60949617, 0.6056202 , 0.60755814, 0.62160858,\n",
       "        0.61627907, 0.61434104, 0.62209307, 0.63565891, 0.6371124 ,\n",
       "        0.66472868, 0.68556202, 0.68362398, 0.68120155, 0.6879845 ,\n",
       "        0.68895349, 0.73352713, 0.74709307, 0.7495155 , 0.75436047])]"
      ]
     },
     "execution_count": 67,
     "metadata": {},
     "output_type": "execute_result"
    }
   ],
   "source": [
    "X_teste"
   ]
  },
  {
   "cell_type": "code",
   "execution_count": 68,
   "metadata": {},
   "outputs": [],
   "source": [
    "X_teste = np.array(X_teste)\n",
    "X_teste = np.reshape(X_teste, (X_teste.shape[0], X_teste.shape[1], 1))"
   ]
  },
  {
   "cell_type": "code",
   "execution_count": 69,
   "metadata": {},
   "outputs": [
    {
     "data": {
      "text/plain": [
       "(22, 90, 1)"
      ]
     },
     "execution_count": 69,
     "metadata": {},
     "output_type": "execute_result"
    }
   ],
   "source": [
    "X_teste.shape"
   ]
  },
  {
   "cell_type": "code",
   "execution_count": 70,
   "metadata": {},
   "outputs": [
    {
     "name": "stdout",
     "output_type": "stream",
     "text": [
      "\u001b[1m1/1\u001b[0m \u001b[32m━━━━━━━━━━━━━━━━━━━━\u001b[0m\u001b[37m\u001b[0m \u001b[1m1s\u001b[0m 616ms/step\n"
     ]
    }
   ],
   "source": [
    "previsoes = regressor.predict(X_teste)"
   ]
  },
  {
   "cell_type": "code",
   "execution_count": 71,
   "metadata": {},
   "outputs": [
    {
     "data": {
      "text/plain": [
       "array([[0.54724896],\n",
       "       [0.5513229 ],\n",
       "       [0.55577874],\n",
       "       [0.56232786],\n",
       "       [0.56925917],\n",
       "       [0.574956  ],\n",
       "       [0.58040607],\n",
       "       [0.5846715 ],\n",
       "       [0.58688486],\n",
       "       [0.58819747],\n",
       "       [0.5909748 ],\n",
       "       [0.59526426],\n",
       "       [0.60341656],\n",
       "       [0.6165094 ],\n",
       "       [0.6309349 ],\n",
       "       [0.64251137],\n",
       "       [0.6502293 ],\n",
       "       [0.6543585 ],\n",
       "       [0.66152143],\n",
       "       [0.6736771 ],\n",
       "       [0.6878545 ],\n",
       "       [0.7007361 ]], dtype=float32)"
      ]
     },
     "execution_count": 71,
     "metadata": {},
     "output_type": "execute_result"
    }
   ],
   "source": [
    "previsoes"
   ]
  },
  {
   "cell_type": "code",
   "execution_count": 72,
   "metadata": {},
   "outputs": [],
   "source": [
    "previsoes = normalizador.inverse_transform(previsoes)"
   ]
  },
  {
   "cell_type": "code",
   "execution_count": 73,
   "metadata": {},
   "outputs": [
    {
     "data": {
      "text/plain": [
       "array([[16.190001],\n",
       "       [16.49    ],\n",
       "       [16.780001],\n",
       "       [16.700001],\n",
       "       [16.74    ],\n",
       "       [17.030001],\n",
       "       [16.92    ],\n",
       "       [16.879999],\n",
       "       [17.040001],\n",
       "       [17.32    ],\n",
       "       [17.35    ],\n",
       "       [17.92    ],\n",
       "       [18.35    ],\n",
       "       [18.309999],\n",
       "       [18.26    ],\n",
       "       [18.4     ],\n",
       "       [18.42    ],\n",
       "       [19.34    ],\n",
       "       [19.620001],\n",
       "       [19.67    ],\n",
       "       [19.77    ],\n",
       "       [19.74    ]])"
      ]
     },
     "execution_count": 73,
     "metadata": {},
     "output_type": "execute_result"
    }
   ],
   "source": [
    "y_teste"
   ]
  },
  {
   "cell_type": "code",
   "execution_count": 74,
   "metadata": {},
   "outputs": [
    {
     "data": {
      "text/plain": [
       "16.780119"
      ]
     },
     "execution_count": 74,
     "metadata": {},
     "output_type": "execute_result"
    }
   ],
   "source": [
    "previsoes.mean()    "
   ]
  },
  {
   "cell_type": "code",
   "execution_count": 75,
   "metadata": {},
   "outputs": [
    {
     "data": {
      "text/plain": [
       "17.87454563636364"
      ]
     },
     "execution_count": 75,
     "metadata": {},
     "output_type": "execute_result"
    }
   ],
   "source": [
    "y_teste.mean()"
   ]
  },
  {
   "cell_type": "code",
   "execution_count": 76,
   "metadata": {},
   "outputs": [
    {
     "data": {
      "text/plain": [
       "1.0944268674982245"
      ]
     },
     "execution_count": 76,
     "metadata": {},
     "output_type": "execute_result"
    }
   ],
   "source": [
    "from sklearn.metrics import mean_absolute_error\n",
    "mean_absolute_error(y_teste, previsoes)"
   ]
  },
  {
   "cell_type": "code",
   "execution_count": 78,
   "metadata": {},
   "outputs": [
    {
     "data": {
      "image/png": "[encoded data removed]",
      "text/plain": [
       "<Figure size 640x480 with 1 Axes>"
      ]
     },
     "metadata": {},
     "output_type": "display_data"
    }
   ],
   "source": [
    "plt.plot(y_teste, color = \"red\", label = \"Preço real\")\n",
    "plt.plot(previsoes, color = \"blue\", label = \"Previsoes\")\n",
    "plt.xlabel(\"Tempo\")\n",
    "plt.ylabel(\"Valor\")\n",
    "plt.legend();"
   ]
  }
 ],
 "metadata": {
  "kernelspec": {
   "display_name": "Python 3",
   "language": "python",
   "name": "python3"
  },
  "language_info": {
   "codemirror_mode": {
    "name": "ipython",
    "version": 3
   },
   "file_extension": ".py",
   "mimetype": "text/x-python",
   "name": "python",
   "nbconvert_exporter": "python",
   "pygments_lexer": "ipython3",
   "version": "3.12.9"
  }
 },
 "nbformat": 4,
 "nbformat_minor": 2
}
